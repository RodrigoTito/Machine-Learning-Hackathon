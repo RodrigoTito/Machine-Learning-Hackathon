{
  "nbformat": 4,
  "nbformat_minor": 0,
  "metadata": {
    "colab": {
      "name": "Machine Learning Hackathon.ipynb",
      "provenance": [],
      "collapsed_sections": [
        "i9Uv63Ta_XwV",
        "jBCvxaEO_gDK",
        "pJbIaUs3CGrx",
        "TreYElDK-O9u",
        "rKA4Atfq8Q6w",
        "jSty63h2K7w2"
      ],
      "authorship_tag": "ABX9TyOdvCJChWkMh/j981xvfHkn",
      "include_colab_link": true
    },
    "kernelspec": {
      "name": "python3",
      "display_name": "Python 3"
    },
    "language_info": {
      "name": "python"
    }
  },
  "cells": [
    {
      "cell_type": "markdown",
      "metadata": {
        "id": "view-in-github",
        "colab_type": "text"
      },
      "source": [
        "<a href=\"https://colab.research.google.com/github/RodrigoTito/Machine-Learning-Hackathon/blob/main/Machine_Learning_Hackathon.ipynb\" target=\"_parent\"><img src=\"https://colab.research.google.com/assets/colab-badge.svg\" alt=\"Open In Colab\"/></a>"
      ]
    },
    {
      "cell_type": "markdown",
      "metadata": {
        "id": "i9Uv63Ta_XwV"
      },
      "source": [
        "## Risco de crédito por CapitainData"
      ]
    },
    {
      "cell_type": "markdown",
      "metadata": {
        "id": "sH105V1tu0Re"
      },
      "source": [
        "O XYZ Bank é um banco privado de médio porte que inclui uma variedade de produtos bancários, como contas de poupança, contas correntes, produtos de investimento, produtos de crédito e empréstimos imobiliários.\n",
        "\n",
        "O Banco quer prever o próximo conjunto de produtos para um conjunto de clientes para otimizar suas campanhas de marketing e comunicação.\n",
        "\n",
        "*O objetivo é prever o próximo conjunto de produtos (até 3 produtos) para um conjunto de clientes (dados de teste) com base em seus dados demográficos e acervos de produtos atuais.*"
      ]
    },
    {
      "cell_type": "markdown",
      "metadata": {
        "id": "jBCvxaEO_gDK"
      },
      "source": [
        "### Bibliotecas"
      ]
    },
    {
      "cell_type": "code",
      "metadata": {
        "id": "9GifveMp_boy"
      },
      "source": [
        "import os\n",
        "import numpy as np\n",
        "import pandas as pd\n",
        "import matplotlib.pyplot as plt\n",
        "import seaborn as sns"
      ],
      "execution_count": null,
      "outputs": []
    },
    {
      "cell_type": "markdown",
      "metadata": {
        "id": "g35jinGGBy7K"
      },
      "source": [
        "* Carregar Dados"
      ]
    },
    {
      "cell_type": "code",
      "metadata": {
        "colab": {
          "base_uri": "https://localhost:8080/"
        },
        "id": "jrNtMDPnB2VY",
        "outputId": "5b245174-b496-41f9-de1b-f8c41a276a4a"
      },
      "source": [
        "print(sorted(os.listdir(\"/content\")))"
      ],
      "execution_count": null,
      "outputs": [
        {
          "output_type": "stream",
          "name": "stdout",
          "text": [
            "['.config', 'sample_data', 'test_VkM91FT.csv', 'train_go05W65.csv']\n"
          ]
        }
      ]
    },
    {
      "cell_type": "code",
      "metadata": {
        "id": "jlN6tfSBCATi"
      },
      "source": [
        "test, train = [pd.read_csv(f\"../content/{f}\", ) for f in sorted(os.listdir(\"../content\"))[-2:]]"
      ],
      "execution_count": null,
      "outputs": []
    },
    {
      "cell_type": "markdown",
      "metadata": {
        "id": "pJbIaUs3CGrx"
      },
      "source": [
        "### EDA - Análise Exploratória de Dados"
      ]
    },
    {
      "cell_type": "markdown",
      "metadata": {
        "id": "KOCoIe7DsWOS"
      },
      "source": [
        "* Os tamanhos dos datasets"
      ]
    },
    {
      "cell_type": "code",
      "metadata": {
        "colab": {
          "base_uri": "https://localhost:8080/"
        },
        "id": "Gya8zHy3CI-Y",
        "outputId": "ea205055-a17b-4c63-8f35-413b486c7734"
      },
      "source": [
        "[x.shape for x in [test, train]]"
      ],
      "execution_count": null,
      "outputs": [
        {
          "output_type": "execute_result",
          "data": {
            "text/plain": [
              "[(20327, 8), (37748, 9)]"
            ]
          },
          "metadata": {},
          "execution_count": 11
        }
      ]
    },
    {
      "cell_type": "markdown",
      "metadata": {
        "id": "Y1D9uIk9sgvi"
      },
      "source": [
        "* Variáveis do dataset train"
      ]
    },
    {
      "cell_type": "code",
      "metadata": {
        "colab": {
          "base_uri": "https://localhost:8080/"
        },
        "id": "kJnJCgdusk_D",
        "outputId": "9977885a-7756-41e0-b9c1-6c00cb403297"
      },
      "source": [
        "pd.DataFrame({'Cols_Train':train.columns})"
      ],
      "execution_count": null,
      "outputs": [
        {
          "output_type": "execute_result",
          "data": {
            "text/html": [
              "<div>\n",
              "<style scoped>\n",
              "    .dataframe tbody tr th:only-of-type {\n",
              "        vertical-align: middle;\n",
              "    }\n",
              "\n",
              "    .dataframe tbody tr th {\n",
              "        vertical-align: top;\n",
              "    }\n",
              "\n",
              "    .dataframe thead th {\n",
              "        text-align: right;\n",
              "    }\n",
              "</style>\n",
              "<table border=\"1\" class=\"dataframe\">\n",
              "  <thead>\n",
              "    <tr style=\"text-align: right;\">\n",
              "      <th></th>\n",
              "      <th>Cols_Train</th>\n",
              "    </tr>\n",
              "  </thead>\n",
              "  <tbody>\n",
              "    <tr>\n",
              "      <th>0</th>\n",
              "      <td>Customer_ID</td>\n",
              "    </tr>\n",
              "    <tr>\n",
              "      <th>1</th>\n",
              "      <td>Gender</td>\n",
              "    </tr>\n",
              "    <tr>\n",
              "      <th>2</th>\n",
              "      <td>Age</td>\n",
              "    </tr>\n",
              "    <tr>\n",
              "      <th>3</th>\n",
              "      <td>Vintage</td>\n",
              "    </tr>\n",
              "    <tr>\n",
              "      <th>4</th>\n",
              "      <td>Is_Active</td>\n",
              "    </tr>\n",
              "    <tr>\n",
              "      <th>5</th>\n",
              "      <td>City_Category</td>\n",
              "    </tr>\n",
              "    <tr>\n",
              "      <th>6</th>\n",
              "      <td>Customer_Category</td>\n",
              "    </tr>\n",
              "    <tr>\n",
              "      <th>7</th>\n",
              "      <td>Product_Holding_B1</td>\n",
              "    </tr>\n",
              "    <tr>\n",
              "      <th>8</th>\n",
              "      <td>Product_Holding_B2</td>\n",
              "    </tr>\n",
              "  </tbody>\n",
              "</table>\n",
              "</div>"
            ],
            "text/plain": [
              "           Cols_Train\n",
              "0         Customer_ID\n",
              "1              Gender\n",
              "2                 Age\n",
              "3             Vintage\n",
              "4           Is_Active\n",
              "5       City_Category\n",
              "6   Customer_Category\n",
              "7  Product_Holding_B1\n",
              "8  Product_Holding_B2"
            ]
          },
          "metadata": {},
          "execution_count": 12
        }
      ]
    },
    {
      "cell_type": "markdown",
      "metadata": {
        "id": "niGLPgzByD_Q"
      },
      "source": [
        "Column name   | Descrição \n",
        "--------- | ------------\n",
        "Customer_ID | ID único para o cliente \n",
        "Gender      | Gênero do Cliente\n",
        "Age         | Idade do cliente (em anos)\n",
        "Vintage     | Vintage para o cliente (em meses)\n",
        "Is_Active   | Índice de atividade, 0: cliente menos frequente, 1: cliente mais frequente\n",
        "City_Category| Categoria codificada da cidade do cliente\n",
        "Customer_Category| Categoria codificada do cliente\n",
        "Product_Holding_B1| Produto atual detido (codificado)\n",
        "Product_Holding_B2| Retenção de Produto nos próximos seis meses (Codificado) - Coluna de Destino"
      ]
    },
    {
      "cell_type": "markdown",
      "metadata": {
        "id": "pQHhKCu0tAoQ"
      },
      "source": [
        "* Colunas diferentes dos datasets train e test"
      ]
    },
    {
      "cell_type": "code",
      "metadata": {
        "colab": {
          "base_uri": "https://localhost:8080/"
        },
        "id": "xTCf4rYntBAC",
        "outputId": "d243a342-7fe5-455c-defc-2350a77a42c8"
      },
      "source": [
        "train.columns.difference(test.columns)"
      ],
      "execution_count": null,
      "outputs": [
        {
          "output_type": "execute_result",
          "data": {
            "text/plain": [
              "Index(['Product_Holding_B2'], dtype='object')"
            ]
          },
          "metadata": {},
          "execution_count": 13
        }
      ]
    },
    {
      "cell_type": "markdown",
      "metadata": {
        "id": "itkQ26B9txpH"
      },
      "source": [
        "* Tipo das variáveis"
      ]
    },
    {
      "cell_type": "code",
      "metadata": {
        "colab": {
          "base_uri": "https://localhost:8080/"
        },
        "id": "rUdHVPbUtzks",
        "outputId": "183a620e-2e5f-4158-df72-b93a5228ecf5"
      },
      "source": [
        "train.dtypes.value_counts()  "
      ],
      "execution_count": null,
      "outputs": [
        {
          "output_type": "execute_result",
          "data": {
            "text/plain": [
              "object    6\n",
              "int64     3\n",
              "dtype: int64"
            ]
          },
          "metadata": {},
          "execution_count": 14
        }
      ]
    },
    {
      "cell_type": "markdown",
      "metadata": {
        "id": "Ml2G3XFyuXq-"
      },
      "source": [
        "* Visualizando o dataset train"
      ]
    },
    {
      "cell_type": "code",
      "metadata": {
        "colab": {
          "base_uri": "https://localhost:8080/"
        },
        "id": "fiDclNg7CX3C",
        "outputId": "0e0aad29-d426-4468-db40-1765a5132c62"
      },
      "source": [
        "train.head()"
      ],
      "execution_count": null,
      "outputs": [
        {
          "output_type": "execute_result",
          "data": {
            "text/html": [
              "<div>\n",
              "<style scoped>\n",
              "    .dataframe tbody tr th:only-of-type {\n",
              "        vertical-align: middle;\n",
              "    }\n",
              "\n",
              "    .dataframe tbody tr th {\n",
              "        vertical-align: top;\n",
              "    }\n",
              "\n",
              "    .dataframe thead th {\n",
              "        text-align: right;\n",
              "    }\n",
              "</style>\n",
              "<table border=\"1\" class=\"dataframe\">\n",
              "  <thead>\n",
              "    <tr style=\"text-align: right;\">\n",
              "      <th></th>\n",
              "      <th>Customer_ID</th>\n",
              "      <th>Gender</th>\n",
              "      <th>Age</th>\n",
              "      <th>Vintage</th>\n",
              "      <th>Is_Active</th>\n",
              "      <th>City_Category</th>\n",
              "      <th>Customer_Category</th>\n",
              "      <th>Product_Holding_B1</th>\n",
              "      <th>Product_Holding_B2</th>\n",
              "    </tr>\n",
              "  </thead>\n",
              "  <tbody>\n",
              "    <tr>\n",
              "      <th>0</th>\n",
              "      <td>CC264719</td>\n",
              "      <td>Male</td>\n",
              "      <td>41</td>\n",
              "      <td>14</td>\n",
              "      <td>0</td>\n",
              "      <td>C1</td>\n",
              "      <td>S3</td>\n",
              "      <td>['P16']</td>\n",
              "      <td>['P8']</td>\n",
              "    </tr>\n",
              "    <tr>\n",
              "      <th>1</th>\n",
              "      <td>CC209679</td>\n",
              "      <td>Female</td>\n",
              "      <td>47</td>\n",
              "      <td>14</td>\n",
              "      <td>1</td>\n",
              "      <td>C1</td>\n",
              "      <td>S2</td>\n",
              "      <td>['P13', 'P20']</td>\n",
              "      <td>['P3']</td>\n",
              "    </tr>\n",
              "    <tr>\n",
              "      <th>2</th>\n",
              "      <td>CC319633</td>\n",
              "      <td>Female</td>\n",
              "      <td>59</td>\n",
              "      <td>14</td>\n",
              "      <td>0</td>\n",
              "      <td>C2</td>\n",
              "      <td>S2</td>\n",
              "      <td>['P11']</td>\n",
              "      <td>['P00']</td>\n",
              "    </tr>\n",
              "    <tr>\n",
              "      <th>3</th>\n",
              "      <td>CC231413</td>\n",
              "      <td>Female</td>\n",
              "      <td>32</td>\n",
              "      <td>16</td>\n",
              "      <td>0</td>\n",
              "      <td>C1</td>\n",
              "      <td>S2</td>\n",
              "      <td>['P8', 'P13']</td>\n",
              "      <td>['P6']</td>\n",
              "    </tr>\n",
              "    <tr>\n",
              "      <th>4</th>\n",
              "      <td>CC259633</td>\n",
              "      <td>Male</td>\n",
              "      <td>30</td>\n",
              "      <td>15</td>\n",
              "      <td>0</td>\n",
              "      <td>C2</td>\n",
              "      <td>S3</td>\n",
              "      <td>['P16', 'P17', 'P21']</td>\n",
              "      <td>['P8', 'P12']</td>\n",
              "    </tr>\n",
              "  </tbody>\n",
              "</table>\n",
              "</div>"
            ],
            "text/plain": [
              "  Customer_ID  Gender  ...     Product_Holding_B1  Product_Holding_B2\n",
              "0    CC264719    Male  ...                ['P16']              ['P8']\n",
              "1    CC209679  Female  ...         ['P13', 'P20']              ['P3']\n",
              "2    CC319633  Female  ...                ['P11']             ['P00']\n",
              "3    CC231413  Female  ...          ['P8', 'P13']              ['P6']\n",
              "4    CC259633    Male  ...  ['P16', 'P17', 'P21']       ['P8', 'P12']\n",
              "\n",
              "[5 rows x 9 columns]"
            ]
          },
          "metadata": {},
          "execution_count": 15
        }
      ]
    },
    {
      "cell_type": "markdown",
      "metadata": {
        "id": "aw0QstsC1YZi"
      },
      "source": [
        "* Resumo de cada variável do dataset train"
      ]
    },
    {
      "cell_type": "code",
      "metadata": {
        "colab": {
          "base_uri": "https://localhost:8080/"
        },
        "id": "6VamJNLs1asS",
        "outputId": "6ca403a6-75b9-4945-e6ac-c8957d8ae3bd"
      },
      "source": [
        "df_aux = pd.DataFrame({'Type': train.dtypes,\n",
        "                      'Missing': train.isna().sum(),\n",
        "                      'Size': train.shape[0],\n",
        "                       'Unique': train.nunique()\n",
        "                     })\n",
        "df_aux['Missing_%']= df_aux.Missing/df_aux.Size * 100\n",
        "df_aux.sort_values(by='Missing_%', ascending=False)"
      ],
      "execution_count": null,
      "outputs": [
        {
          "output_type": "execute_result",
          "data": {
            "text/html": [
              "<div>\n",
              "<style scoped>\n",
              "    .dataframe tbody tr th:only-of-type {\n",
              "        vertical-align: middle;\n",
              "    }\n",
              "\n",
              "    .dataframe tbody tr th {\n",
              "        vertical-align: top;\n",
              "    }\n",
              "\n",
              "    .dataframe thead th {\n",
              "        text-align: right;\n",
              "    }\n",
              "</style>\n",
              "<table border=\"1\" class=\"dataframe\">\n",
              "  <thead>\n",
              "    <tr style=\"text-align: right;\">\n",
              "      <th></th>\n",
              "      <th>Type</th>\n",
              "      <th>Missing</th>\n",
              "      <th>Size</th>\n",
              "      <th>Unique</th>\n",
              "      <th>Missing_%</th>\n",
              "    </tr>\n",
              "  </thead>\n",
              "  <tbody>\n",
              "    <tr>\n",
              "      <th>Customer_ID</th>\n",
              "      <td>object</td>\n",
              "      <td>0</td>\n",
              "      <td>37748</td>\n",
              "      <td>37748</td>\n",
              "      <td>0.0</td>\n",
              "    </tr>\n",
              "    <tr>\n",
              "      <th>Gender</th>\n",
              "      <td>object</td>\n",
              "      <td>0</td>\n",
              "      <td>37748</td>\n",
              "      <td>2</td>\n",
              "      <td>0.0</td>\n",
              "    </tr>\n",
              "    <tr>\n",
              "      <th>Age</th>\n",
              "      <td>int64</td>\n",
              "      <td>0</td>\n",
              "      <td>37748</td>\n",
              "      <td>36</td>\n",
              "      <td>0.0</td>\n",
              "    </tr>\n",
              "    <tr>\n",
              "      <th>Vintage</th>\n",
              "      <td>int64</td>\n",
              "      <td>0</td>\n",
              "      <td>37748</td>\n",
              "      <td>64</td>\n",
              "      <td>0.0</td>\n",
              "    </tr>\n",
              "    <tr>\n",
              "      <th>Is_Active</th>\n",
              "      <td>int64</td>\n",
              "      <td>0</td>\n",
              "      <td>37748</td>\n",
              "      <td>2</td>\n",
              "      <td>0.0</td>\n",
              "    </tr>\n",
              "    <tr>\n",
              "      <th>City_Category</th>\n",
              "      <td>object</td>\n",
              "      <td>0</td>\n",
              "      <td>37748</td>\n",
              "      <td>2</td>\n",
              "      <td>0.0</td>\n",
              "    </tr>\n",
              "    <tr>\n",
              "      <th>Customer_Category</th>\n",
              "      <td>object</td>\n",
              "      <td>0</td>\n",
              "      <td>37748</td>\n",
              "      <td>3</td>\n",
              "      <td>0.0</td>\n",
              "    </tr>\n",
              "    <tr>\n",
              "      <th>Product_Holding_B1</th>\n",
              "      <td>object</td>\n",
              "      <td>0</td>\n",
              "      <td>37748</td>\n",
              "      <td>617</td>\n",
              "      <td>0.0</td>\n",
              "    </tr>\n",
              "    <tr>\n",
              "      <th>Product_Holding_B2</th>\n",
              "      <td>object</td>\n",
              "      <td>0</td>\n",
              "      <td>37748</td>\n",
              "      <td>495</td>\n",
              "      <td>0.0</td>\n",
              "    </tr>\n",
              "  </tbody>\n",
              "</table>\n",
              "</div>"
            ],
            "text/plain": [
              "                      Type  Missing   Size  Unique  Missing_%\n",
              "Customer_ID         object        0  37748   37748        0.0\n",
              "Gender              object        0  37748       2        0.0\n",
              "Age                  int64        0  37748      36        0.0\n",
              "Vintage              int64        0  37748      64        0.0\n",
              "Is_Active            int64        0  37748       2        0.0\n",
              "City_Category       object        0  37748       2        0.0\n",
              "Customer_Category   object        0  37748       3        0.0\n",
              "Product_Holding_B1  object        0  37748     617        0.0\n",
              "Product_Holding_B2  object        0  37748     495        0.0"
            ]
          },
          "metadata": {},
          "execution_count": 16
        }
      ]
    },
    {
      "cell_type": "markdown",
      "metadata": {
        "id": "iCknikf-0KNG"
      },
      "source": [
        "* Resumo de cada variável do dataset test"
      ]
    },
    {
      "cell_type": "code",
      "metadata": {
        "colab": {
          "base_uri": "https://localhost:8080/"
        },
        "id": "XLVZXo7Y0JSB",
        "outputId": "333b7f19-f4bf-4b69-cdd3-7176cbf773e0"
      },
      "source": [
        "df_aux = pd.DataFrame({'Type': test.dtypes,\n",
        "                      'Missing': test.isna().sum(),\n",
        "                      'Size': test.shape[0],\n",
        "                       'Unique': test.nunique()\n",
        "                     })\n",
        "df_aux['Missing_%']= df_aux.Missing/df_aux.Size * 100\n",
        "df_aux.sort_values(by='Missing_%', ascending=False)"
      ],
      "execution_count": null,
      "outputs": [
        {
          "output_type": "execute_result",
          "data": {
            "text/html": [
              "<div>\n",
              "<style scoped>\n",
              "    .dataframe tbody tr th:only-of-type {\n",
              "        vertical-align: middle;\n",
              "    }\n",
              "\n",
              "    .dataframe tbody tr th {\n",
              "        vertical-align: top;\n",
              "    }\n",
              "\n",
              "    .dataframe thead th {\n",
              "        text-align: right;\n",
              "    }\n",
              "</style>\n",
              "<table border=\"1\" class=\"dataframe\">\n",
              "  <thead>\n",
              "    <tr style=\"text-align: right;\">\n",
              "      <th></th>\n",
              "      <th>Type</th>\n",
              "      <th>Missing</th>\n",
              "      <th>Size</th>\n",
              "      <th>Unique</th>\n",
              "      <th>Missing_%</th>\n",
              "    </tr>\n",
              "  </thead>\n",
              "  <tbody>\n",
              "    <tr>\n",
              "      <th>Customer_ID</th>\n",
              "      <td>object</td>\n",
              "      <td>0</td>\n",
              "      <td>20327</td>\n",
              "      <td>20327</td>\n",
              "      <td>0.0</td>\n",
              "    </tr>\n",
              "    <tr>\n",
              "      <th>Gender</th>\n",
              "      <td>object</td>\n",
              "      <td>0</td>\n",
              "      <td>20327</td>\n",
              "      <td>2</td>\n",
              "      <td>0.0</td>\n",
              "    </tr>\n",
              "    <tr>\n",
              "      <th>Age</th>\n",
              "      <td>int64</td>\n",
              "      <td>0</td>\n",
              "      <td>20327</td>\n",
              "      <td>36</td>\n",
              "      <td>0.0</td>\n",
              "    </tr>\n",
              "    <tr>\n",
              "      <th>Vintage</th>\n",
              "      <td>int64</td>\n",
              "      <td>0</td>\n",
              "      <td>20327</td>\n",
              "      <td>63</td>\n",
              "      <td>0.0</td>\n",
              "    </tr>\n",
              "    <tr>\n",
              "      <th>Is_Active</th>\n",
              "      <td>int64</td>\n",
              "      <td>0</td>\n",
              "      <td>20327</td>\n",
              "      <td>2</td>\n",
              "      <td>0.0</td>\n",
              "    </tr>\n",
              "    <tr>\n",
              "      <th>City_Category</th>\n",
              "      <td>object</td>\n",
              "      <td>0</td>\n",
              "      <td>20327</td>\n",
              "      <td>2</td>\n",
              "      <td>0.0</td>\n",
              "    </tr>\n",
              "    <tr>\n",
              "      <th>Customer_Category</th>\n",
              "      <td>object</td>\n",
              "      <td>0</td>\n",
              "      <td>20327</td>\n",
              "      <td>3</td>\n",
              "      <td>0.0</td>\n",
              "    </tr>\n",
              "    <tr>\n",
              "      <th>Product_Holding_B1</th>\n",
              "      <td>object</td>\n",
              "      <td>0</td>\n",
              "      <td>20327</td>\n",
              "      <td>510</td>\n",
              "      <td>0.0</td>\n",
              "    </tr>\n",
              "  </tbody>\n",
              "</table>\n",
              "</div>"
            ],
            "text/plain": [
              "                      Type  Missing   Size  Unique  Missing_%\n",
              "Customer_ID         object        0  20327   20327        0.0\n",
              "Gender              object        0  20327       2        0.0\n",
              "Age                  int64        0  20327      36        0.0\n",
              "Vintage              int64        0  20327      63        0.0\n",
              "Is_Active            int64        0  20327       2        0.0\n",
              "City_Category       object        0  20327       2        0.0\n",
              "Customer_Category   object        0  20327       3        0.0\n",
              "Product_Holding_B1  object        0  20327     510        0.0"
            ]
          },
          "metadata": {},
          "execution_count": 17
        }
      ]
    },
    {
      "cell_type": "markdown",
      "metadata": {
        "id": "028ahXBf145P"
      },
      "source": [
        "* Estatísticas descritivas"
      ]
    },
    {
      "cell_type": "code",
      "metadata": {
        "colab": {
          "base_uri": "https://localhost:8080/"
        },
        "id": "lvELPZkECQwT",
        "outputId": "d4ec353e-9130-4955-e8f1-321f9c10766e"
      },
      "source": [
        "train.describe().transpose()"
      ],
      "execution_count": null,
      "outputs": [
        {
          "output_type": "execute_result",
          "data": {
            "text/html": [
              "<div>\n",
              "<style scoped>\n",
              "    .dataframe tbody tr th:only-of-type {\n",
              "        vertical-align: middle;\n",
              "    }\n",
              "\n",
              "    .dataframe tbody tr th {\n",
              "        vertical-align: top;\n",
              "    }\n",
              "\n",
              "    .dataframe thead th {\n",
              "        text-align: right;\n",
              "    }\n",
              "</style>\n",
              "<table border=\"1\" class=\"dataframe\">\n",
              "  <thead>\n",
              "    <tr style=\"text-align: right;\">\n",
              "      <th></th>\n",
              "      <th>count</th>\n",
              "      <th>mean</th>\n",
              "      <th>std</th>\n",
              "      <th>min</th>\n",
              "      <th>25%</th>\n",
              "      <th>50%</th>\n",
              "      <th>75%</th>\n",
              "      <th>max</th>\n",
              "    </tr>\n",
              "  </thead>\n",
              "  <tbody>\n",
              "    <tr>\n",
              "      <th>Age</th>\n",
              "      <td>37748.0</td>\n",
              "      <td>38.521379</td>\n",
              "      <td>10.121811</td>\n",
              "      <td>24.0</td>\n",
              "      <td>29.0</td>\n",
              "      <td>37.0</td>\n",
              "      <td>47.0</td>\n",
              "      <td>59.0</td>\n",
              "    </tr>\n",
              "    <tr>\n",
              "      <th>Vintage</th>\n",
              "      <td>37748.0</td>\n",
              "      <td>19.573169</td>\n",
              "      <td>10.252417</td>\n",
              "      <td>2.0</td>\n",
              "      <td>13.0</td>\n",
              "      <td>16.0</td>\n",
              "      <td>23.0</td>\n",
              "      <td>65.0</td>\n",
              "    </tr>\n",
              "    <tr>\n",
              "      <th>Is_Active</th>\n",
              "      <td>37748.0</td>\n",
              "      <td>0.264809</td>\n",
              "      <td>0.441237</td>\n",
              "      <td>0.0</td>\n",
              "      <td>0.0</td>\n",
              "      <td>0.0</td>\n",
              "      <td>1.0</td>\n",
              "      <td>1.0</td>\n",
              "    </tr>\n",
              "  </tbody>\n",
              "</table>\n",
              "</div>"
            ],
            "text/plain": [
              "             count       mean        std   min   25%   50%   75%   max\n",
              "Age        37748.0  38.521379  10.121811  24.0  29.0  37.0  47.0  59.0\n",
              "Vintage    37748.0  19.573169  10.252417   2.0  13.0  16.0  23.0  65.0\n",
              "Is_Active  37748.0   0.264809   0.441237   0.0   0.0   0.0   1.0   1.0"
            ]
          },
          "metadata": {},
          "execution_count": 18
        }
      ]
    },
    {
      "cell_type": "markdown",
      "metadata": {
        "id": "BkNw6Gzt2BnF"
      },
      "source": [
        "* Visualização "
      ]
    },
    {
      "cell_type": "markdown",
      "metadata": {
        "id": "y8WqGUNx2Nme"
      },
      "source": [
        "Gráficos de colunas"
      ]
    },
    {
      "cell_type": "code",
      "metadata": {
        "id": "gMlLz_mf2LLl"
      },
      "source": [
        "def grafico_com_porcentagem(df,feature,hue):\n",
        "    total = len(df)\n",
        "    ax =  sns.countplot(x=feature,hue=hue, data=df,color = \"#2b8cbe\")\n",
        "    ax.set_ylim(0,total*1.1) # Ajusta altura do frame\n",
        "    for p in ax.patches:\n",
        "        x = p.get_x() + p.get_width()/2\n",
        "        y = p.get_height()\n",
        "        ax.annotate('{:.2f}%'.format(100*p.get_height()/total), (x, y+10), ha='center')\n",
        "    return ax\n",
        "def grafico_com_porcentagem_1(g):\n",
        "    g.ax.set_ylim(0,100)\n",
        "    for p in g.ax.patches:\n",
        "        x = p.get_x() + p.get_width()/2\n",
        "        y = p.get_height()\n",
        "        g.ax.annotate('{:.2f}%'.format(p.get_height()), (x, y+2), ha='center')\n",
        "    return g"
      ],
      "execution_count": null,
      "outputs": []
    },
    {
      "cell_type": "code",
      "metadata": {
        "colab": {
          "base_uri": "https://localhost:8080/"
        },
        "id": "hB853sjp2XWz",
        "outputId": "2c88f914-f82e-4eb0-9680-361f96e6d717"
      },
      "source": [
        "plt.figure(figsize=(20,8))\n",
        "plt.subplot(221),grafico_com_porcentagem(train,'Is_Active','Is_Active')\n",
        "plt.subplot(222),grafico_com_porcentagem(train,'Gender','Is_Active')\n",
        "plt.subplot(223),grafico_com_porcentagem(train,'City_Category','Is_Active')\n",
        "plt.subplot(224),grafico_com_porcentagem(train,'Customer_Category','Is_Active')\n",
        "plt.show()"
      ],
      "execution_count": null,
      "outputs": [
        {
          "output_type": "display_data",
          "data": {
            "image/png": "[encoded data removed]",
            "text/plain": [
              "<Figure size 1440x576 with 4 Axes>"
            ]
          },
          "metadata": {
            "needs_background": "light"
          }
        }
      ]
    },
    {
      "cell_type": "code",
      "metadata": {
        "colab": {
          "base_uri": "https://localhost:8080/"
        },
        "id": "n9Z-Bdx-Pb3e",
        "outputId": "4d5843a8-8c61-4c47-87cc-14a817cce90d"
      },
      "source": [
        "df1 = train.groupby('Gender')['Is_Active'].value_counts(normalize=True)*100\n",
        "df1 = df1.rename('percent').reset_index().sort_values(by=['percent'], ascending = True)\n",
        "\n",
        "g = sns.catplot(x='Gender',y='percent',hue='Is_Active',kind='bar',data=df1, height=5,aspect = 3,palette=\"tab10\")\n",
        "grafico_com_porcentagem_1(g)\n",
        "plt.title('Taxa de Índice de atividade/ Gênero do Cliente \\n', fontsize=20)\n",
        "plt.show()"
      ],
      "execution_count": null,
      "outputs": [
        {
          "output_type": "display_data",
          "data": {
            "image/png": "[encoded data removed]",
            "text/plain": [
              "<Figure size 1132.12x360 with 1 Axes>"
            ]
          },
          "metadata": {
            "needs_background": "light"
          }
        }
      ]
    },
    {
      "cell_type": "code",
      "metadata": {
        "colab": {
          "base_uri": "https://localhost:8080/"
        },
        "id": "c7KoElgEV1h5",
        "outputId": "ca5dd866-6ac1-4222-9d5b-60ec5a628909"
      },
      "source": [
        "df1 = train.groupby('Customer_Category')['Is_Active'].value_counts(normalize=True)*100\n",
        "df1 = df1.rename('percent').reset_index().sort_values(by=['percent'], ascending = True)\n",
        "\n",
        "g = sns.catplot(x='Customer_Category',y='percent',hue='Is_Active',kind='bar',data=df1, height=5,aspect = 3,palette=\"tab10\")\n",
        "grafico_com_porcentagem_1(g)\n",
        "plt.title('Taxa de Índice de atividade/ Categoria codificada do cliente \\n', fontsize=20)\n",
        "plt.show()"
      ],
      "execution_count": null,
      "outputs": [
        {
          "output_type": "display_data",
          "data": {
            "image/png": "[encoded data removed]",
            "text/plain": [
              "<Figure size 1132.12x360 with 1 Axes>"
            ]
          },
          "metadata": {
            "needs_background": "light"
          }
        }
      ]
    },
    {
      "cell_type": "markdown",
      "metadata": {
        "id": "vYcJQnWjvaZl"
      },
      "source": [
        "* Analisando a variável **Product_Holding_B1**\tProduto atual detido (codificado)"
      ]
    },
    {
      "cell_type": "code",
      "metadata": {
        "colab": {
          "base_uri": "https://localhost:8080/"
        },
        "id": "DHse33Tsvq9Q",
        "outputId": "8cab9016-ee54-41f3-eceb-629fb0c6b8a1"
      },
      "source": [
        "Product_Holding_B1 = pd.DataFrame({'Product_Holding_B1':train['Product_Holding_B1'].value_counts(),\n",
        "              'Product_Holding_B1_%':(train['Product_Holding_B1'].value_counts(normalize=True)*100).round(2)})\n",
        "Product_Holding_B1.head(15)"
      ],
      "execution_count": null,
      "outputs": [
        {
          "output_type": "execute_result",
          "data": {
            "text/html": [
              "<div>\n",
              "<style scoped>\n",
              "    .dataframe tbody tr th:only-of-type {\n",
              "        vertical-align: middle;\n",
              "    }\n",
              "\n",
              "    .dataframe tbody tr th {\n",
              "        vertical-align: top;\n",
              "    }\n",
              "\n",
              "    .dataframe thead th {\n",
              "        text-align: right;\n",
              "    }\n",
              "</style>\n",
              "<table border=\"1\" class=\"dataframe\">\n",
              "  <thead>\n",
              "    <tr style=\"text-align: right;\">\n",
              "      <th></th>\n",
              "      <th>Product_Holding_B1</th>\n",
              "      <th>Product_Holding_B1_%</th>\n",
              "    </tr>\n",
              "  </thead>\n",
              "  <tbody>\n",
              "    <tr>\n",
              "      <th>['P13']</th>\n",
              "      <td>7443</td>\n",
              "      <td>19.72</td>\n",
              "    </tr>\n",
              "    <tr>\n",
              "      <th>['P16']</th>\n",
              "      <td>4424</td>\n",
              "      <td>11.72</td>\n",
              "    </tr>\n",
              "    <tr>\n",
              "      <th>['P17']</th>\n",
              "      <td>2342</td>\n",
              "      <td>6.20</td>\n",
              "    </tr>\n",
              "    <tr>\n",
              "      <th>['P11']</th>\n",
              "      <td>1581</td>\n",
              "      <td>4.19</td>\n",
              "    </tr>\n",
              "    <tr>\n",
              "      <th>['P16', 'P21']</th>\n",
              "      <td>1270</td>\n",
              "      <td>3.36</td>\n",
              "    </tr>\n",
              "    <tr>\n",
              "      <th>['P13', 'P21']</th>\n",
              "      <td>1106</td>\n",
              "      <td>2.93</td>\n",
              "    </tr>\n",
              "    <tr>\n",
              "      <th>['P13', 'P17']</th>\n",
              "      <td>1093</td>\n",
              "      <td>2.90</td>\n",
              "    </tr>\n",
              "    <tr>\n",
              "      <th>['P8', 'P13']</th>\n",
              "      <td>1067</td>\n",
              "      <td>2.83</td>\n",
              "    </tr>\n",
              "    <tr>\n",
              "      <th>['P12', 'P13']</th>\n",
              "      <td>1043</td>\n",
              "      <td>2.76</td>\n",
              "    </tr>\n",
              "    <tr>\n",
              "      <th>['P12', 'P16']</th>\n",
              "      <td>1036</td>\n",
              "      <td>2.74</td>\n",
              "    </tr>\n",
              "    <tr>\n",
              "      <th>['P00']</th>\n",
              "      <td>1014</td>\n",
              "      <td>2.69</td>\n",
              "    </tr>\n",
              "    <tr>\n",
              "      <th>['P16', 'P17']</th>\n",
              "      <td>924</td>\n",
              "      <td>2.45</td>\n",
              "    </tr>\n",
              "    <tr>\n",
              "      <th>['P21']</th>\n",
              "      <td>767</td>\n",
              "      <td>2.03</td>\n",
              "    </tr>\n",
              "    <tr>\n",
              "      <th>['P2']</th>\n",
              "      <td>672</td>\n",
              "      <td>1.78</td>\n",
              "    </tr>\n",
              "    <tr>\n",
              "      <th>['P20']</th>\n",
              "      <td>670</td>\n",
              "      <td>1.77</td>\n",
              "    </tr>\n",
              "  </tbody>\n",
              "</table>\n",
              "</div>"
            ],
            "text/plain": [
              "                Product_Holding_B1  Product_Holding_B1_%\n",
              "['P13']                       7443                 19.72\n",
              "['P16']                       4424                 11.72\n",
              "['P17']                       2342                  6.20\n",
              "['P11']                       1581                  4.19\n",
              "['P16', 'P21']                1270                  3.36\n",
              "['P13', 'P21']                1106                  2.93\n",
              "['P13', 'P17']                1093                  2.90\n",
              "['P8', 'P13']                 1067                  2.83\n",
              "['P12', 'P13']                1043                  2.76\n",
              "['P12', 'P16']                1036                  2.74\n",
              "['P00']                       1014                  2.69\n",
              "['P16', 'P17']                 924                  2.45\n",
              "['P21']                        767                  2.03\n",
              "['P2']                         672                  1.78\n",
              "['P20']                        670                  1.77"
            ]
          },
          "metadata": {},
          "execution_count": 23
        }
      ]
    },
    {
      "cell_type": "markdown",
      "metadata": {
        "id": "9dTFVJOw2eAn"
      },
      "source": [
        "* Lista com os códigos da coluna Produto atual detido sem duplicação:"
      ]
    },
    {
      "cell_type": "code",
      "metadata": {
        "colab": {
          "base_uri": "https://localhost:8080/"
        },
        "id": "B7X5bC3u2gyH",
        "outputId": "1ffaa131-2f1d-461c-d91c-7166aef66751"
      },
      "source": [
        "list_codigo_exclusivo_atual = []\n",
        "for i in train['Product_Holding_B1']:\n",
        "  list_codigo_exclusivo_atual = list(set(list_codigo_exclusivo_atual + eval(i))) # Lista cm a codificação sem duplicação: \n",
        "\n",
        "list_codigo_exclusivo_atual.sort()\n",
        "print(list_codigo_exclusivo_atual,'\\n \\n','São',len(list_codigo_exclusivo_atual), 'produtos')"
      ],
      "execution_count": null,
      "outputs": [
        {
          "output_type": "stream",
          "name": "stdout",
          "text": [
            "['P00', 'P1', 'P10', 'P11', 'P12', 'P13', 'P14', 'P15', 'P16', 'P17', 'P18', 'P19', 'P2', 'P20', 'P21', 'P3', 'P4', 'P5', 'P6', 'P7', 'P8', 'P9'] \n",
            " \n",
            " São 22 produtos\n"
          ]
        }
      ]
    },
    {
      "cell_type": "markdown",
      "metadata": {
        "id": "988zlyeI3RLo"
      },
      "source": [
        "* Contabilizando os produtos atuais codificados"
      ]
    },
    {
      "cell_type": "code",
      "metadata": {
        "id": "hJf92y893Z5R"
      },
      "source": [
        "count_prod_atual_cod = []\n",
        "for p_cod in list_codigo_exclusivo_atual:\n",
        "  cont = 0\n",
        "  for p_hol in train['Product_Holding_B1']:\n",
        "    if p_cod in eval(p_hol):\n",
        "      cont = cont + 1\n",
        "  count_prod_atual_cod.append(cont)"
      ],
      "execution_count": null,
      "outputs": []
    },
    {
      "cell_type": "code",
      "metadata": {
        "colab": {
          "base_uri": "https://localhost:8080/"
        },
        "id": "lKq_VXQB4Cfo",
        "outputId": "78607ae8-e920-48cc-f826-8cddf8a701cc"
      },
      "source": [
        "dict_prod_atual_list = dict(zip(list_codigo_exclusivo_atual,count_prod_atual_cod))\n",
        "query_prod_atual = pd.DataFrame(dict_prod_atual_list,index = [0],columns = list_codigo_exclusivo_atual)\n",
        "query_prod_atual"
      ],
      "execution_count": null,
      "outputs": [
        {
          "output_type": "execute_result",
          "data": {
            "text/html": [
              "<div>\n",
              "<style scoped>\n",
              "    .dataframe tbody tr th:only-of-type {\n",
              "        vertical-align: middle;\n",
              "    }\n",
              "\n",
              "    .dataframe tbody tr th {\n",
              "        vertical-align: top;\n",
              "    }\n",
              "\n",
              "    .dataframe thead th {\n",
              "        text-align: right;\n",
              "    }\n",
              "</style>\n",
              "<table border=\"1\" class=\"dataframe\">\n",
              "  <thead>\n",
              "    <tr style=\"text-align: right;\">\n",
              "      <th></th>\n",
              "      <th>P00</th>\n",
              "      <th>P1</th>\n",
              "      <th>P10</th>\n",
              "      <th>P11</th>\n",
              "      <th>P12</th>\n",
              "      <th>P13</th>\n",
              "      <th>P14</th>\n",
              "      <th>P15</th>\n",
              "      <th>P16</th>\n",
              "      <th>P17</th>\n",
              "      <th>P18</th>\n",
              "      <th>P19</th>\n",
              "      <th>P2</th>\n",
              "      <th>P20</th>\n",
              "      <th>P21</th>\n",
              "      <th>P3</th>\n",
              "      <th>P4</th>\n",
              "      <th>P5</th>\n",
              "      <th>P6</th>\n",
              "      <th>P7</th>\n",
              "      <th>P8</th>\n",
              "      <th>P9</th>\n",
              "    </tr>\n",
              "  </thead>\n",
              "  <tbody>\n",
              "    <tr>\n",
              "      <th>0</th>\n",
              "      <td>1014</td>\n",
              "      <td>12</td>\n",
              "      <td>1472</td>\n",
              "      <td>1920</td>\n",
              "      <td>6120</td>\n",
              "      <td>16870</td>\n",
              "      <td>129</td>\n",
              "      <td>540</td>\n",
              "      <td>11270</td>\n",
              "      <td>7205</td>\n",
              "      <td>338</td>\n",
              "      <td>2122</td>\n",
              "      <td>675</td>\n",
              "      <td>3708</td>\n",
              "      <td>6435</td>\n",
              "      <td>61</td>\n",
              "      <td>33</td>\n",
              "      <td>34</td>\n",
              "      <td>105</td>\n",
              "      <td>359</td>\n",
              "      <td>2695</td>\n",
              "      <td>460</td>\n",
              "    </tr>\n",
              "  </tbody>\n",
              "</table>\n",
              "</div>"
            ],
            "text/plain": [
              "    P00  P1   P10   P11   P12    P13  P14  ...  P3  P4  P5   P6   P7    P8   P9\n",
              "0  1014  12  1472  1920  6120  16870  129  ...  61  33  34  105  359  2695  460\n",
              "\n",
              "[1 rows x 22 columns]"
            ]
          },
          "metadata": {},
          "execution_count": 26
        }
      ]
    },
    {
      "cell_type": "code",
      "metadata": {
        "colab": {
          "base_uri": "https://localhost:8080/"
        },
        "id": "N7XUctxl4ss3",
        "outputId": "bc8c2606-28a6-45f4-8c80-537d7fe61111"
      },
      "source": [
        "#query.plot.bar()\n",
        "plt.figure(figsize=(12,8))\n",
        "sns.barplot(data=query_prod_atual.sort_values(by=0,axis=1,ascending=False),color = \"#2b8cbe\")\n",
        "plt.title('Count - Produto atual detido', fontsize=20)\n",
        "plt.ylabel('Count')\n",
        "plt.show()"
      ],
      "execution_count": null,
      "outputs": [
        {
          "output_type": "display_data",
          "data": {
            "image/png": "[encoded data removed]",
            "text/plain": [
              "<Figure size 864x576 with 1 Axes>"
            ]
          },
          "metadata": {
            "needs_background": "light"
          }
        }
      ]
    },
    {
      "cell_type": "markdown",
      "metadata": {
        "id": "FAvxc4J_yBuO"
      },
      "source": [
        "* **Product_Holding_B1:**\tProduto atual detido (codificado) versus **Product_Holding_B2:** Retenção de Produto nos próximos seis meses (Codificado)\n"
      ]
    },
    {
      "cell_type": "code",
      "metadata": {
        "colab": {
          "base_uri": "https://localhost:8080/"
        },
        "id": "Xq3Fj5Vqy51J",
        "outputId": "f8c35e12-8101-42b1-dacd-47d093043cc3"
      },
      "source": [
        "P_H_B1_AND_B2 = train.groupby('Product_Holding_B1')['Product_Holding_B2'].value_counts().sort_values(ascending=False)\n",
        "pd.DataFrame(P_H_B1_AND_B2).head(15)"
      ],
      "execution_count": null,
      "outputs": [
        {
          "output_type": "execute_result",
          "data": {
            "text/html": [
              "<div>\n",
              "<style scoped>\n",
              "    .dataframe tbody tr th:only-of-type {\n",
              "        vertical-align: middle;\n",
              "    }\n",
              "\n",
              "    .dataframe tbody tr th {\n",
              "        vertical-align: top;\n",
              "    }\n",
              "\n",
              "    .dataframe thead th {\n",
              "        text-align: right;\n",
              "    }\n",
              "</style>\n",
              "<table border=\"1\" class=\"dataframe\">\n",
              "  <thead>\n",
              "    <tr style=\"text-align: right;\">\n",
              "      <th></th>\n",
              "      <th></th>\n",
              "      <th>Product_Holding_B2</th>\n",
              "    </tr>\n",
              "    <tr>\n",
              "      <th>Product_Holding_B1</th>\n",
              "      <th>Product_Holding_B2</th>\n",
              "      <th></th>\n",
              "    </tr>\n",
              "  </thead>\n",
              "  <tbody>\n",
              "    <tr>\n",
              "      <th>['P13']</th>\n",
              "      <th>['P00']</th>\n",
              "      <td>2592</td>\n",
              "    </tr>\n",
              "    <tr>\n",
              "      <th>['P17']</th>\n",
              "      <th>['P16']</th>\n",
              "      <td>1968</td>\n",
              "    </tr>\n",
              "    <tr>\n",
              "      <th>['P16']</th>\n",
              "      <th>['P8']</th>\n",
              "      <td>1928</td>\n",
              "    </tr>\n",
              "    <tr>\n",
              "      <th>['P13']</th>\n",
              "      <th>['P8']</th>\n",
              "      <td>1859</td>\n",
              "    </tr>\n",
              "    <tr>\n",
              "      <th>['P11']</th>\n",
              "      <th>['P00']</th>\n",
              "      <td>1427</td>\n",
              "    </tr>\n",
              "    <tr>\n",
              "      <th>['P2']</th>\n",
              "      <th>['P00']</th>\n",
              "      <td>662</td>\n",
              "    </tr>\n",
              "    <tr>\n",
              "      <th>['P16', 'P21']</th>\n",
              "      <th>['P12']</th>\n",
              "      <td>618</td>\n",
              "    </tr>\n",
              "    <tr>\n",
              "      <th rowspan=\"2\" valign=\"top\">['P16']</th>\n",
              "      <th>['P6']</th>\n",
              "      <td>576</td>\n",
              "    </tr>\n",
              "    <tr>\n",
              "      <th>['P00']</th>\n",
              "      <td>576</td>\n",
              "    </tr>\n",
              "    <tr>\n",
              "      <th rowspan=\"2\" valign=\"top\">['P13']</th>\n",
              "      <th>['P12']</th>\n",
              "      <td>570</td>\n",
              "    </tr>\n",
              "    <tr>\n",
              "      <th>['P6']</th>\n",
              "      <td>567</td>\n",
              "    </tr>\n",
              "    <tr>\n",
              "      <th>['P16', 'P17']</th>\n",
              "      <th>['P12']</th>\n",
              "      <td>530</td>\n",
              "    </tr>\n",
              "    <tr>\n",
              "      <th>['P16']</th>\n",
              "      <th>['P12']</th>\n",
              "      <td>505</td>\n",
              "    </tr>\n",
              "    <tr>\n",
              "      <th rowspan=\"2\" valign=\"top\">['P13']</th>\n",
              "      <th>['P9']</th>\n",
              "      <td>483</td>\n",
              "    </tr>\n",
              "    <tr>\n",
              "      <th>['P3']</th>\n",
              "      <td>476</td>\n",
              "    </tr>\n",
              "  </tbody>\n",
              "</table>\n",
              "</div>"
            ],
            "text/plain": [
              "                                       Product_Holding_B2\n",
              "Product_Holding_B1 Product_Holding_B2                    \n",
              "['P13']            ['P00']                           2592\n",
              "['P17']            ['P16']                           1968\n",
              "['P16']            ['P8']                            1928\n",
              "['P13']            ['P8']                            1859\n",
              "['P11']            ['P00']                           1427\n",
              "['P2']             ['P00']                            662\n",
              "['P16', 'P21']     ['P12']                            618\n",
              "['P16']            ['P6']                             576\n",
              "                   ['P00']                            576\n",
              "['P13']            ['P12']                            570\n",
              "                   ['P6']                             567\n",
              "['P16', 'P17']     ['P12']                            530\n",
              "['P16']            ['P12']                            505\n",
              "['P13']            ['P9']                             483\n",
              "                   ['P3']                             476"
            ]
          },
          "metadata": {},
          "execution_count": 28
        }
      ]
    },
    {
      "cell_type": "markdown",
      "metadata": {
        "id": "TQKAsLxLMlKx"
      },
      "source": [
        "* Analisando a variável **Product_Holding_B2**\t- Retenção de Produto nos próximos seis meses (Codificado) - Coluna de Destino"
      ]
    },
    {
      "cell_type": "code",
      "metadata": {
        "colab": {
          "base_uri": "https://localhost:8080/"
        },
        "id": "1nHmBkB7MlfR",
        "outputId": "b312206c-8587-44fb-f626-3786014919dc"
      },
      "source": [
        "Product_Holding_B2 = pd.DataFrame({'Product_Holding_B2':train['Product_Holding_B2'].value_counts(),\n",
        "              'Product_Holding_B2_%':(train['Product_Holding_B2'].value_counts(normalize=True)*100).round(2)})\n",
        "Product_Holding_B2.head(10)"
      ],
      "execution_count": null,
      "outputs": [
        {
          "output_type": "execute_result",
          "data": {
            "text/html": [
              "<div>\n",
              "<style scoped>\n",
              "    .dataframe tbody tr th:only-of-type {\n",
              "        vertical-align: middle;\n",
              "    }\n",
              "\n",
              "    .dataframe tbody tr th {\n",
              "        vertical-align: top;\n",
              "    }\n",
              "\n",
              "    .dataframe thead th {\n",
              "        text-align: right;\n",
              "    }\n",
              "</style>\n",
              "<table border=\"1\" class=\"dataframe\">\n",
              "  <thead>\n",
              "    <tr style=\"text-align: right;\">\n",
              "      <th></th>\n",
              "      <th>Product_Holding_B2</th>\n",
              "      <th>Product_Holding_B2_%</th>\n",
              "    </tr>\n",
              "  </thead>\n",
              "  <tbody>\n",
              "    <tr>\n",
              "      <th>['P00']</th>\n",
              "      <td>5908</td>\n",
              "      <td>15.65</td>\n",
              "    </tr>\n",
              "    <tr>\n",
              "      <th>['P8']</th>\n",
              "      <td>5360</td>\n",
              "      <td>14.20</td>\n",
              "    </tr>\n",
              "    <tr>\n",
              "      <th>['P12']</th>\n",
              "      <td>3844</td>\n",
              "      <td>10.18</td>\n",
              "    </tr>\n",
              "    <tr>\n",
              "      <th>['P16']</th>\n",
              "      <td>3263</td>\n",
              "      <td>8.64</td>\n",
              "    </tr>\n",
              "    <tr>\n",
              "      <th>['P6']</th>\n",
              "      <td>2170</td>\n",
              "      <td>5.75</td>\n",
              "    </tr>\n",
              "    <tr>\n",
              "      <th>['P1']</th>\n",
              "      <td>1332</td>\n",
              "      <td>3.53</td>\n",
              "    </tr>\n",
              "    <tr>\n",
              "      <th>['P8', 'P12']</th>\n",
              "      <td>1244</td>\n",
              "      <td>3.30</td>\n",
              "    </tr>\n",
              "    <tr>\n",
              "      <th>['P13']</th>\n",
              "      <td>1117</td>\n",
              "      <td>2.96</td>\n",
              "    </tr>\n",
              "    <tr>\n",
              "      <th>['P10']</th>\n",
              "      <td>1069</td>\n",
              "      <td>2.83</td>\n",
              "    </tr>\n",
              "    <tr>\n",
              "      <th>['P3']</th>\n",
              "      <td>858</td>\n",
              "      <td>2.27</td>\n",
              "    </tr>\n",
              "  </tbody>\n",
              "</table>\n",
              "</div>"
            ],
            "text/plain": [
              "               Product_Holding_B2  Product_Holding_B2_%\n",
              "['P00']                      5908                 15.65\n",
              "['P8']                       5360                 14.20\n",
              "['P12']                      3844                 10.18\n",
              "['P16']                      3263                  8.64\n",
              "['P6']                       2170                  5.75\n",
              "['P1']                       1332                  3.53\n",
              "['P8', 'P12']                1244                  3.30\n",
              "['P13']                      1117                  2.96\n",
              "['P10']                      1069                  2.83\n",
              "['P3']                        858                  2.27"
            ]
          },
          "metadata": {},
          "execution_count": 29
        }
      ]
    },
    {
      "cell_type": "markdown",
      "metadata": {
        "id": "cgjWaXvQ72r7"
      },
      "source": [
        "* Lista com os códigos da coluna destino sem duplicação:"
      ]
    },
    {
      "cell_type": "code",
      "metadata": {
        "colab": {
          "base_uri": "https://localhost:8080/"
        },
        "id": "CcR3NtTwguef",
        "outputId": "581c6104-9d93-41fd-b171-e20f898f0519"
      },
      "source": [
        "list_codigo_exclusivo_prox_6_meses = []\n",
        "for i in train['Product_Holding_B2']:\n",
        "  list_codigo_exclusivo_prox_6_meses = list(set(list_codigo_exclusivo_prox_6_meses + eval(i))) # Lista cm a codificação sem duplicação: \n",
        "\n",
        "list_codigo_exclusivo_prox_6_meses.sort()\n",
        "print(list_codigo_exclusivo_prox_6_meses,'\\n \\n','São:',len(list_codigo_exclusivo_prox_6_meses),'produtos')"
      ],
      "execution_count": null,
      "outputs": [
        {
          "output_type": "stream",
          "name": "stdout",
          "text": [
            "['P00', 'P1', 'P10', 'P11', 'P12', 'P13', 'P14', 'P15', 'P16', 'P17', 'P18', 'P2', 'P20', 'P3', 'P4', 'P5', 'P6', 'P7', 'P8', 'P9'] \n",
            " \n",
            " São: 20 produtos\n"
          ]
        }
      ]
    },
    {
      "cell_type": "markdown",
      "metadata": {
        "id": "YQC4XJQVN4AT"
      },
      "source": [
        "* Contabilizando os produtos codificados na variável destino"
      ]
    },
    {
      "cell_type": "code",
      "metadata": {
        "id": "BrFhgOtw8WQ4"
      },
      "source": [
        "count_p_cod = []\n",
        "for p_cod in list_codigo_exclusivo_atual:\n",
        "  cont = 0\n",
        "  for p_hol in train['Product_Holding_B2']:\n",
        "    if p_cod in eval(p_hol):\n",
        "      cont = cont + 1\n",
        "  count_p_cod.append(cont)"
      ],
      "execution_count": null,
      "outputs": []
    },
    {
      "cell_type": "code",
      "metadata": {
        "colab": {
          "base_uri": "https://localhost:8080/"
        },
        "id": "PxSQW1owNYr3",
        "outputId": "c346c956-7568-4439-8da0-1518e7743752"
      },
      "source": [
        "dict_from_list = dict(zip(list_codigo_exclusivo_atual,count_p_cod))\n",
        "query_prod_prox_6_meses = pd.DataFrame(dict_from_list,index = [0],columns = list_codigo_exclusivo_atual).sort_values(by=0,axis=1,ascending=False)\n",
        "query_prod_prox_6_meses"
      ],
      "execution_count": null,
      "outputs": [
        {
          "output_type": "execute_result",
          "data": {
            "text/html": [
              "<div>\n",
              "<style scoped>\n",
              "    .dataframe tbody tr th:only-of-type {\n",
              "        vertical-align: middle;\n",
              "    }\n",
              "\n",
              "    .dataframe tbody tr th {\n",
              "        vertical-align: top;\n",
              "    }\n",
              "\n",
              "    .dataframe thead th {\n",
              "        text-align: right;\n",
              "    }\n",
              "</style>\n",
              "<table border=\"1\" class=\"dataframe\">\n",
              "  <thead>\n",
              "    <tr style=\"text-align: right;\">\n",
              "      <th></th>\n",
              "      <th>P8</th>\n",
              "      <th>P12</th>\n",
              "      <th>P00</th>\n",
              "      <th>P6</th>\n",
              "      <th>P16</th>\n",
              "      <th>P1</th>\n",
              "      <th>P4</th>\n",
              "      <th>P10</th>\n",
              "      <th>P7</th>\n",
              "      <th>P3</th>\n",
              "      <th>P9</th>\n",
              "      <th>P13</th>\n",
              "      <th>P5</th>\n",
              "      <th>P2</th>\n",
              "      <th>P11</th>\n",
              "      <th>P15</th>\n",
              "      <th>P14</th>\n",
              "      <th>P17</th>\n",
              "      <th>P20</th>\n",
              "      <th>P18</th>\n",
              "      <th>P21</th>\n",
              "      <th>P19</th>\n",
              "    </tr>\n",
              "  </thead>\n",
              "  <tbody>\n",
              "    <tr>\n",
              "      <th>0</th>\n",
              "      <td>11518</td>\n",
              "      <td>7285</td>\n",
              "      <td>5908</td>\n",
              "      <td>4675</td>\n",
              "      <td>3478</td>\n",
              "      <td>3310</td>\n",
              "      <td>2943</td>\n",
              "      <td>2914</td>\n",
              "      <td>2526</td>\n",
              "      <td>2486</td>\n",
              "      <td>1833</td>\n",
              "      <td>1494</td>\n",
              "      <td>1211</td>\n",
              "      <td>206</td>\n",
              "      <td>186</td>\n",
              "      <td>41</td>\n",
              "      <td>20</td>\n",
              "      <td>17</td>\n",
              "      <td>4</td>\n",
              "      <td>2</td>\n",
              "      <td>0</td>\n",
              "      <td>0</td>\n",
              "    </tr>\n",
              "  </tbody>\n",
              "</table>\n",
              "</div>"
            ],
            "text/plain": [
              "      P8   P12   P00    P6   P16    P1    P4  ...  P15  P14  P17  P20  P18  P21  P19\n",
              "0  11518  7285  5908  4675  3478  3310  2943  ...   41   20   17    4    2    0    0\n",
              "\n",
              "[1 rows x 22 columns]"
            ]
          },
          "metadata": {},
          "execution_count": 32
        }
      ]
    },
    {
      "cell_type": "code",
      "metadata": {
        "colab": {
          "base_uri": "https://localhost:8080/"
        },
        "id": "jRpFqSLV5NOU",
        "outputId": "7846c9b1-ad90-4b79-fba7-c1fdc3217885"
      },
      "source": [
        "#query.plot.bar()\n",
        "plt.figure(figsize=(12,8))\n",
        "sns.barplot(data=query_prod_prox_6_meses,color = \"#2b8cbe\")\n",
        "plt.title('Count - Retenção de produto nos próximos seis meses', fontsize=20)\n",
        "plt.ylabel('Count')\n",
        "plt.show()"
      ],
      "execution_count": null,
      "outputs": [
        {
          "output_type": "display_data",
          "data": {
            "image/png": "[encoded data removed]",
            "text/plain": [
              "<Figure size 864x576 with 1 Axes>"
            ]
          },
          "metadata": {
            "needs_background": "light"
          }
        }
      ]
    },
    {
      "cell_type": "markdown",
      "metadata": {
        "id": "TreYElDK-O9u"
      },
      "source": [
        "### Modelagem"
      ]
    },
    {
      "cell_type": "markdown",
      "metadata": {
        "id": "tEREJUsp_zfV"
      },
      "source": [
        "* Fazendo uma cópia do dataset train"
      ]
    },
    {
      "cell_type": "code",
      "metadata": {
        "id": "RfVxry0Q_6Ra"
      },
      "source": [
        "X = train.copy()"
      ],
      "execution_count": null,
      "outputs": []
    },
    {
      "cell_type": "markdown",
      "metadata": {
        "id": "SDXGB4CcIj0V"
      },
      "source": [
        "* One-Hot na variável  **Product_Holding_B1**"
      ]
    },
    {
      "cell_type": "code",
      "metadata": {
        "id": "nDzi7N10-SFh"
      },
      "source": [
        "for p_cod in list_codigo_exclusivo_atual:\n",
        "  X_cod_p = []\n",
        "  for p_hol in train['Product_Holding_B1']:\n",
        "    if p_cod in eval(p_hol):\n",
        "      X_cod_p.append(1)\n",
        "    else:\n",
        "      X_cod_p.append(0)\n",
        "  X[p_cod] = X_cod_p "
      ],
      "execution_count": null,
      "outputs": []
    },
    {
      "cell_type": "markdown",
      "metadata": {
        "id": "5qAIJyXrCjYJ"
      },
      "source": [
        "**Dividir dados**"
      ]
    },
    {
      "cell_type": "markdown",
      "metadata": {
        "id": "I4uksQ3v5BSN"
      },
      "source": [
        "* Separando a variável resposta das variáveis preditoras"
      ]
    },
    {
      "cell_type": "code",
      "metadata": {
        "id": "YdBzOsBOCfCO"
      },
      "source": [
        "X = train.drop(['Product_Holding_B2'],axis=1)\n",
        "y= train[[\"Product_Holding_B2\"]]\n",
        "test_Customer_ID = test['Customer_ID']"
      ],
      "execution_count": null,
      "outputs": []
    },
    {
      "cell_type": "markdown",
      "metadata": {
        "id": "GbICTPXrRCzX"
      },
      "source": [
        "* One-Hot na variável **Product_Holding_B2**"
      ]
    },
    {
      "cell_type": "code",
      "metadata": {
        "id": "dC-RmT7JRIOf"
      },
      "source": [
        "for p_cod in list_codigo_exclusivo_prox_6_meses:\n",
        "  cod_p = []\n",
        "  for p_hol in y['Product_Holding_B2']:\n",
        "    if p_cod in eval(p_hol):\n",
        "      cod_p.append(1)\n",
        "    else:\n",
        "      cod_p.append(0)\n",
        "  y[p_cod] = cod_p "
      ],
      "execution_count": null,
      "outputs": []
    },
    {
      "cell_type": "code",
      "metadata": {
        "id": "-hq00VL0SfhS"
      },
      "source": [
        "y = y.drop('Product_Holding_B2',axis=1)"
      ],
      "execution_count": null,
      "outputs": []
    },
    {
      "cell_type": "markdown",
      "metadata": {
        "id": "iG4O2m5y6RkM"
      },
      "source": [
        "* Concatenando o dataset X com o dataset test"
      ]
    },
    {
      "cell_type": "code",
      "metadata": {
        "id": "3MVuWS8DCro6"
      },
      "source": [
        "All_data = pd.concat([X, test], axis=0)"
      ],
      "execution_count": null,
      "outputs": []
    },
    {
      "cell_type": "markdown",
      "metadata": {
        "id": "NKozWvX9L7tt"
      },
      "source": [
        "* One-Hot na variável **Product_Holding_B1**"
      ]
    },
    {
      "cell_type": "code",
      "metadata": {
        "id": "wUu_lko0NMTR"
      },
      "source": [
        "for p_cod in list_codigo_exclusivo_atual:\n",
        "  cols_cod_p = []\n",
        "  for p_hol in All_data['Product_Holding_B1']:\n",
        "    if p_cod in eval(p_hol):\n",
        "      cols_cod_p.append(1)\n",
        "    else:\n",
        "      cols_cod_p.append(0)\n",
        "  All_data[p_cod] = cols_cod_p "
      ],
      "execution_count": null,
      "outputs": []
    },
    {
      "cell_type": "markdown",
      "metadata": {
        "id": "vb_5ab2jNq8t"
      },
      "source": [
        "* Eliminado as variáveis **Customer_ID** e **Product_Holding_B1**"
      ]
    },
    {
      "cell_type": "code",
      "metadata": {
        "id": "xuOdr0JPN1aV"
      },
      "source": [
        "All_data.drop(['Customer_ID','Product_Holding_B1'],axis=1,inplace=True)"
      ],
      "execution_count": null,
      "outputs": []
    },
    {
      "cell_type": "markdown",
      "metadata": {
        "id": "Yt1kRWHEOVfx"
      },
      "source": [
        "* Listando os índices das variáveis categóricas"
      ]
    },
    {
      "cell_type": "code",
      "metadata": {
        "colab": {
          "base_uri": "https://localhost:8080/"
        },
        "id": "SE-4ocv5OYLv",
        "outputId": "64ac2d7a-dd21-4953-df8f-058aa6088c80"
      },
      "source": [
        "cat_cols=All_data.select_dtypes(\"object\").columns.tolist()\n",
        "features=All_data.columns.tolist()\n",
        "cat_indices = [features.index(col) for col in cat_cols]\n",
        "cat_indices"
      ],
      "execution_count": null,
      "outputs": [
        {
          "output_type": "execute_result",
          "data": {
            "text/plain": [
              "[0, 4, 5]"
            ]
          },
          "metadata": {},
          "execution_count": 49
        }
      ]
    },
    {
      "cell_type": "markdown",
      "metadata": {
        "id": "rz-3ugZQ6eK_"
      },
      "source": [
        "* Criando variáveis fictícias para as variáveis categóricas"
      ]
    },
    {
      "cell_type": "code",
      "metadata": {
        "id": "8FymB71kC0Au"
      },
      "source": [
        "all_data = pd.get_dummies(All_data, columns=cat_cols)"
      ],
      "execution_count": null,
      "outputs": []
    },
    {
      "cell_type": "markdown",
      "metadata": {
        "id": "_nqsXahHQUWs"
      },
      "source": [
        "* Uma visão geral das estatísticas:"
      ]
    },
    {
      "cell_type": "code",
      "metadata": {
        "colab": {
          "base_uri": "https://localhost:8080/",
          "height": 204
        },
        "id": "1Av-7frxOnSG",
        "outputId": "c7b4aa5d-0bf4-4d23-de2e-fda9d51a754e"
      },
      "source": [
        "df_stats = all_data.describe().transpose()\n",
        "df_stats.head(5)"
      ],
      "execution_count": null,
      "outputs": [
        {
          "output_type": "execute_result",
          "data": {
            "text/html": [
              "<div>\n",
              "<style scoped>\n",
              "    .dataframe tbody tr th:only-of-type {\n",
              "        vertical-align: middle;\n",
              "    }\n",
              "\n",
              "    .dataframe tbody tr th {\n",
              "        vertical-align: top;\n",
              "    }\n",
              "\n",
              "    .dataframe thead th {\n",
              "        text-align: right;\n",
              "    }\n",
              "</style>\n",
              "<table border=\"1\" class=\"dataframe\">\n",
              "  <thead>\n",
              "    <tr style=\"text-align: right;\">\n",
              "      <th></th>\n",
              "      <th>count</th>\n",
              "      <th>mean</th>\n",
              "      <th>std</th>\n",
              "      <th>min</th>\n",
              "      <th>25%</th>\n",
              "      <th>50%</th>\n",
              "      <th>75%</th>\n",
              "      <th>max</th>\n",
              "    </tr>\n",
              "  </thead>\n",
              "  <tbody>\n",
              "    <tr>\n",
              "      <th>Age</th>\n",
              "      <td>58075.0</td>\n",
              "      <td>38.460146</td>\n",
              "      <td>10.111050</td>\n",
              "      <td>24.0</td>\n",
              "      <td>29.0</td>\n",
              "      <td>37.0</td>\n",
              "      <td>47.0</td>\n",
              "      <td>59.0</td>\n",
              "    </tr>\n",
              "    <tr>\n",
              "      <th>Vintage</th>\n",
              "      <td>58075.0</td>\n",
              "      <td>19.585674</td>\n",
              "      <td>10.252426</td>\n",
              "      <td>2.0</td>\n",
              "      <td>13.0</td>\n",
              "      <td>16.0</td>\n",
              "      <td>23.0</td>\n",
              "      <td>80.0</td>\n",
              "    </tr>\n",
              "    <tr>\n",
              "      <th>Is_Active</th>\n",
              "      <td>58075.0</td>\n",
              "      <td>0.264572</td>\n",
              "      <td>0.441109</td>\n",
              "      <td>0.0</td>\n",
              "      <td>0.0</td>\n",
              "      <td>0.0</td>\n",
              "      <td>1.0</td>\n",
              "      <td>1.0</td>\n",
              "    </tr>\n",
              "    <tr>\n",
              "      <th>P00</th>\n",
              "      <td>58075.0</td>\n",
              "      <td>0.026001</td>\n",
              "      <td>0.159139</td>\n",
              "      <td>0.0</td>\n",
              "      <td>0.0</td>\n",
              "      <td>0.0</td>\n",
              "      <td>0.0</td>\n",
              "      <td>1.0</td>\n",
              "    </tr>\n",
              "    <tr>\n",
              "      <th>P1</th>\n",
              "      <td>58075.0</td>\n",
              "      <td>0.000258</td>\n",
              "      <td>0.016069</td>\n",
              "      <td>0.0</td>\n",
              "      <td>0.0</td>\n",
              "      <td>0.0</td>\n",
              "      <td>0.0</td>\n",
              "      <td>1.0</td>\n",
              "    </tr>\n",
              "  </tbody>\n",
              "</table>\n",
              "</div>"
            ],
            "text/plain": [
              "             count       mean        std   min   25%   50%   75%   max\n",
              "Age        58075.0  38.460146  10.111050  24.0  29.0  37.0  47.0  59.0\n",
              "Vintage    58075.0  19.585674  10.252426   2.0  13.0  16.0  23.0  80.0\n",
              "Is_Active  58075.0   0.264572   0.441109   0.0   0.0   0.0   1.0   1.0\n",
              "P00        58075.0   0.026001   0.159139   0.0   0.0   0.0   0.0   1.0\n",
              "P1         58075.0   0.000258   0.016069   0.0   0.0   0.0   0.0   1.0"
            ]
          },
          "metadata": {},
          "execution_count": 51
        }
      ]
    },
    {
      "cell_type": "markdown",
      "metadata": {
        "id": "jMfpnlXvQyiU"
      },
      "source": [
        "* Normalizando os dados"
      ]
    },
    {
      "cell_type": "code",
      "metadata": {
        "id": "y0LiGXJ4QQCo"
      },
      "source": [
        "def norm(x):\n",
        "  return (x - df_stats['mean']) / df_stats['std']\n",
        "\n",
        "all_data = norm(all_data)"
      ],
      "execution_count": null,
      "outputs": []
    },
    {
      "cell_type": "code",
      "metadata": {
        "id": "SMev_3luC0O9"
      },
      "source": [
        "X = all_data[:len(X)]\n",
        "test = all_data[len(X):]"
      ],
      "execution_count": null,
      "outputs": []
    },
    {
      "cell_type": "code",
      "metadata": {
        "colab": {
          "base_uri": "https://localhost:8080/"
        },
        "id": "bdnQDddIC41J",
        "outputId": "db63d087-931b-46cd-830f-d863c8083351"
      },
      "source": [
        "X.shape, test.shape"
      ],
      "execution_count": null,
      "outputs": [
        {
          "output_type": "execute_result",
          "data": {
            "text/plain": [
              "((37748, 32), (20327, 32))"
            ]
          },
          "metadata": {},
          "execution_count": 54
        }
      ]
    },
    {
      "cell_type": "markdown",
      "metadata": {
        "id": "Y0pZzbiy_WHz"
      },
      "source": [
        "* Dividindo o dataset de treinamento e validação"
      ]
    },
    {
      "cell_type": "code",
      "metadata": {
        "id": "e0RovMkVVJnU"
      },
      "source": [
        "from sklearn.model_selection import train_test_split"
      ],
      "execution_count": null,
      "outputs": []
    },
    {
      "cell_type": "code",
      "metadata": {
        "id": "CaJcFVq_Ta_X"
      },
      "source": [
        "def train_test_split_yi(X,y):\n",
        "  Xtrain, Xval, ytrain, yval = train_test_split(X, y, random_state=0, train_size=0.75, stratify=y)\n",
        "  return Xtrain, Xval, ytrain, yval"
      ],
      "execution_count": null,
      "outputs": []
    },
    {
      "cell_type": "code",
      "metadata": {
        "colab": {
          "base_uri": "https://localhost:8080/"
        },
        "id": "Y4oZB-jWC_Z1",
        "outputId": "dd33e060-5834-4b74-984f-29735f0f4ca8"
      },
      "source": [
        "print('X_train',train_test_split_yi(all_data[:len(X)],y['P00'])[0].shape,\n",
        "      'X_val',train_test_split_yi(all_data[:len(X)],y['P00'])[1].shape, \n",
        "      'y_train',train_test_split_yi(all_data[:len(X)],y['P00'])[2].shape,\n",
        "      'y_val',train_test_split_yi(all_data[:len(X)],y['P00'])[3].shape)"
      ],
      "execution_count": null,
      "outputs": [
        {
          "output_type": "stream",
          "name": "stdout",
          "text": [
            "X_train (28311, 32) X_val (9437, 32) y_train (28311,) y_val (9437,)\n"
          ]
        }
      ]
    },
    {
      "cell_type": "markdown",
      "metadata": {
        "id": "rKA4Atfq8Q6w"
      },
      "source": [
        "### Modelos de classificação "
      ]
    },
    {
      "cell_type": "code",
      "metadata": {
        "id": "gBBgqYccVrwd"
      },
      "source": [
        "!pip install catboost"
      ],
      "execution_count": null,
      "outputs": []
    },
    {
      "cell_type": "code",
      "metadata": {
        "id": "3B0GurWv5qLy"
      },
      "source": [
        "from sklearn.linear_model import LogisticRegression\n",
        "from catboost import CatBoostClassifier\n",
        "from sklearn.ensemble import ExtraTreesClassifier\n",
        "from sklearn.ensemble import RandomForestClassifier\n",
        "\n",
        "import datetime\n",
        "from sklearn.preprocessing import Normalizer\n",
        "from sklearn.metrics import accuracy_score, f1_score, roc_auc_score, confusion_matrix, classification_report\n",
        "from sklearn.metrics import mean_squared_error, make_scorer"
      ],
      "execution_count": null,
      "outputs": []
    },
    {
      "cell_type": "markdown",
      "metadata": {
        "id": "ZseKPQYQXxhM"
      },
      "source": [
        "* Treinando os medelos"
      ]
    },
    {
      "cell_type": "code",
      "metadata": {
        "id": "RHXosxpUX8wq"
      },
      "source": [
        "# Definindo os modelos:\n",
        "modelos = ['LogisticRegression','CatBoostClassifier','ExtraTreesClassifier','RandomForestClassifier']\n",
        "\n",
        "def loss_func(y_true, y_predicted):\n",
        "    return mean_squared_error(y_true, y_predicted, squared=False)\n",
        "\n",
        "def modelos(X_train,X_test,y_train,y_test):\n",
        "  execution_results = []\n",
        "  score_model = [] # Acurácia\n",
        "  MSE = [] # Erro quadrático médio\n",
        "  measured_time_train = []\n",
        "  models = [\n",
        "    [LogisticRegression()],\n",
        "    [CatBoostClassifier(iterations=2,\n",
        "                           learning_rate=1,\n",
        "                           depth=2)],\n",
        "    [ExtraTreesClassifier(n_estimators=100)],\n",
        "    [RandomForestClassifier(n_estimators=800)]\n",
        "    ]\n",
        "  best_score = 9999999999999\n",
        "  best_clf = None\n",
        "  score = make_scorer(loss_func, greater_is_better=False)\n",
        "  for classifier in models:\n",
        "    print(\"Training {}...\".format(type(classifier[0]).__name__))\n",
        "    begin_time = datetime.datetime.now()\n",
        "    clf=classifier[0].fit(X_train, y_train) \n",
        "    msd_time_train = datetime.datetime.now() - begin_time\n",
        "    measured_time_train.append(format(msd_time_train))\n",
        "  # Prever com o conjunto de teste\n",
        "    begin_time = datetime.datetime.now()\n",
        "    y_pred = clf.predict(X_test)\n",
        "  # Calculando o tempo decorrido \n",
        "    measured_time_test = datetime.datetime.now() - begin_time\n",
        "  # Calculando erro quadrático médio \n",
        "    error = mean_squared_error(y_test, y_pred, squared=False)\n",
        "    MSE.append(error)\n",
        "  # Calculando a acurácia\n",
        "    score = accuracy_score(y_test, y_pred)\n",
        "    score_model.append(score)\n",
        "    if error < best_score:\n",
        "      best_score = error\n",
        "      best_clf = clf\n",
        "  return MSE,score_model,measured_time_train"
      ],
      "execution_count": null,
      "outputs": []
    },
    {
      "cell_type": "markdown",
      "metadata": {
        "id": "v0jUZjcZbqUq"
      },
      "source": [
        "* Resultados dos modelos"
      ]
    },
    {
      "cell_type": "code",
      "metadata": {
        "id": "yzo8I5qObsdw"
      },
      "source": [
        "RESULTS = []\n",
        "for p_cod in list_codigo_exclusivo_prox_6_meses:\n",
        "  Xtrain, Xval, ytrain, yval = train_test_split_yi(X,y[p_cod])\n",
        "  MSE, score_model, measured_time_train = modelos(Xtrain,Xval,ytrain,yval)\n",
        "  md = pd.DataFrame({'modelos': modelos,\n",
        "                   'mse': MSE,\n",
        "                   'score':score_model,\n",
        "                   'tempo decorrido de treinamento':measured_time_train}).sort_values(['mse', 'score'])\n",
        "  RESULTS.append(md)"
      ],
      "execution_count": null,
      "outputs": []
    },
    {
      "cell_type": "code",
      "metadata": {
        "colab": {
          "base_uri": "https://localhost:8080/",
          "height": 173
        },
        "id": "E8KglkvPetNR",
        "outputId": "d946be6a-06a5-460b-ae18-b5daf41dda25"
      },
      "source": [
        "RESULTS[0]"
      ],
      "execution_count": null,
      "outputs": [
        {
          "output_type": "execute_result",
          "data": {
            "text/html": [
              "<div>\n",
              "<style scoped>\n",
              "    .dataframe tbody tr th:only-of-type {\n",
              "        vertical-align: middle;\n",
              "    }\n",
              "\n",
              "    .dataframe tbody tr th {\n",
              "        vertical-align: top;\n",
              "    }\n",
              "\n",
              "    .dataframe thead th {\n",
              "        text-align: right;\n",
              "    }\n",
              "</style>\n",
              "<table border=\"1\" class=\"dataframe\">\n",
              "  <thead>\n",
              "    <tr style=\"text-align: right;\">\n",
              "      <th></th>\n",
              "      <th>modelos</th>\n",
              "      <th>mse</th>\n",
              "      <th>score</th>\n",
              "      <th>tempo decorrido de treinamento</th>\n",
              "    </tr>\n",
              "  </thead>\n",
              "  <tbody>\n",
              "    <tr>\n",
              "      <th>0</th>\n",
              "      <td>&lt;function modelos at 0x7f2844ddcf80&gt;</td>\n",
              "      <td>0.315103</td>\n",
              "      <td>0.900710</td>\n",
              "      <td>0:00:00.465223</td>\n",
              "    </tr>\n",
              "    <tr>\n",
              "      <th>1</th>\n",
              "      <td>&lt;function modelos at 0x7f2844ddcf80&gt;</td>\n",
              "      <td>0.330691</td>\n",
              "      <td>0.890643</td>\n",
              "      <td>0:00:00.121425</td>\n",
              "    </tr>\n",
              "    <tr>\n",
              "      <th>3</th>\n",
              "      <td>&lt;function modelos at 0x7f2844ddcf80&gt;</td>\n",
              "      <td>0.348326</td>\n",
              "      <td>0.878669</td>\n",
              "      <td>0:00:17.491939</td>\n",
              "    </tr>\n",
              "    <tr>\n",
              "      <th>2</th>\n",
              "      <td>&lt;function modelos at 0x7f2844ddcf80&gt;</td>\n",
              "      <td>0.350146</td>\n",
              "      <td>0.877397</td>\n",
              "      <td>0:00:02.377608</td>\n",
              "    </tr>\n",
              "  </tbody>\n",
              "</table>\n",
              "</div>"
            ],
            "text/plain": [
              "                                modelos  ...  tempo decorrido de treinamento\n",
              "0  <function modelos at 0x7f2844ddcf80>  ...                  0:00:00.465223\n",
              "1  <function modelos at 0x7f2844ddcf80>  ...                  0:00:00.121425\n",
              "3  <function modelos at 0x7f2844ddcf80>  ...                  0:00:17.491939\n",
              "2  <function modelos at 0x7f2844ddcf80>  ...                  0:00:02.377608\n",
              "\n",
              "[4 rows x 4 columns]"
            ]
          },
          "metadata": {},
          "execution_count": 100
        }
      ]
    },
    {
      "cell_type": "markdown",
      "metadata": {
        "id": "db9m2YKUdP_I"
      },
      "source": [
        "* Regressão Logística"
      ]
    },
    {
      "cell_type": "code",
      "metadata": {
        "id": "f3PP7ACX6OAi"
      },
      "source": [
        "regressao_logistica = []\n",
        "score = []\n",
        "for p_cod in list_codigo_exclusivo_prox_6_meses:\n",
        "  Xtrain, Xval, ytrain, yval = train_test_split_yi(X,y[p_cod])\n",
        "  reg_log  = LogisticRegression().fit(Xtrain, ytrain)\n",
        "  regressao_logistica.append(reg_log)\n",
        "  score.append(reg_log.score(Xval,yval))"
      ],
      "execution_count": null,
      "outputs": []
    },
    {
      "cell_type": "code",
      "metadata": {
        "colab": {
          "base_uri": "https://localhost:8080/",
          "height": 80
        },
        "id": "OA4hLHIW6qlE",
        "outputId": "731bb8db-390a-472e-a0c9-084feaf8cc20"
      },
      "source": [
        "df_score = pd.DataFrame(data = score,index = list_codigo_exclusivo_prox_6_meses,columns=['score']).transpose()\n",
        "df_score"
      ],
      "execution_count": null,
      "outputs": [
        {
          "output_type": "execute_result",
          "data": {
            "text/html": [
              "<div>\n",
              "<style scoped>\n",
              "    .dataframe tbody tr th:only-of-type {\n",
              "        vertical-align: middle;\n",
              "    }\n",
              "\n",
              "    .dataframe tbody tr th {\n",
              "        vertical-align: top;\n",
              "    }\n",
              "\n",
              "    .dataframe thead th {\n",
              "        text-align: right;\n",
              "    }\n",
              "</style>\n",
              "<table border=\"1\" class=\"dataframe\">\n",
              "  <thead>\n",
              "    <tr style=\"text-align: right;\">\n",
              "      <th></th>\n",
              "      <th>P00</th>\n",
              "      <th>P1</th>\n",
              "      <th>P10</th>\n",
              "      <th>P11</th>\n",
              "      <th>P12</th>\n",
              "      <th>P13</th>\n",
              "      <th>P14</th>\n",
              "      <th>P15</th>\n",
              "      <th>P16</th>\n",
              "      <th>P17</th>\n",
              "      <th>P18</th>\n",
              "      <th>P2</th>\n",
              "      <th>P20</th>\n",
              "      <th>P3</th>\n",
              "      <th>P4</th>\n",
              "      <th>P5</th>\n",
              "      <th>P6</th>\n",
              "      <th>P7</th>\n",
              "      <th>P8</th>\n",
              "      <th>P9</th>\n",
              "    </tr>\n",
              "  </thead>\n",
              "  <tbody>\n",
              "    <tr>\n",
              "      <th>score</th>\n",
              "      <td>0.90071</td>\n",
              "      <td>0.920314</td>\n",
              "      <td>0.925188</td>\n",
              "      <td>0.995973</td>\n",
              "      <td>0.907492</td>\n",
              "      <td>0.975416</td>\n",
              "      <td>0.99947</td>\n",
              "      <td>0.99894</td>\n",
              "      <td>0.970224</td>\n",
              "      <td>0.999576</td>\n",
              "      <td>1.0</td>\n",
              "      <td>0.995232</td>\n",
              "      <td>0.999894</td>\n",
              "      <td>0.934513</td>\n",
              "      <td>0.926354</td>\n",
              "      <td>0.968316</td>\n",
              "      <td>0.899862</td>\n",
              "      <td>0.938646</td>\n",
              "      <td>0.75914</td>\n",
              "      <td>0.951468</td>\n",
              "    </tr>\n",
              "  </tbody>\n",
              "</table>\n",
              "</div>"
            ],
            "text/plain": [
              "           P00        P1       P10  ...        P7       P8        P9\n",
              "score  0.90071  0.920314  0.925188  ...  0.938646  0.75914  0.951468\n",
              "\n",
              "[1 rows x 20 columns]"
            ]
          },
          "metadata": {},
          "execution_count": 268
        }
      ]
    },
    {
      "cell_type": "code",
      "metadata": {
        "colab": {
          "base_uri": "https://localhost:8080/"
        },
        "id": "36-25u_7RZzJ",
        "outputId": "932f4477-3852-4c02-f1a0-412379a350e1"
      },
      "source": [
        "print('Score médio:',df_score.transpose().mean())"
      ],
      "execution_count": null,
      "outputs": [
        {
          "output_type": "stream",
          "name": "stdout",
          "text": [
            "Score médio: score    0.948336\n",
            "dtype: float64\n"
          ]
        }
      ]
    },
    {
      "cell_type": "markdown",
      "metadata": {
        "id": "jSty63h2K7w2"
      },
      "source": [
        "### Previsão e apresentação"
      ]
    },
    {
      "cell_type": "markdown",
      "metadata": {
        "id": "gRrN5MCOUmAt"
      },
      "source": [
        "* Inserindo a previsão do modelo do conjunto de dados test para submissão"
      ]
    },
    {
      "cell_type": "code",
      "metadata": {
        "id": "OLRTQCs37LAC"
      },
      "source": [
        "y_pred_test = pd.DataFrame(regressao_logistica[0].predict(test),columns=['P00'])\n",
        "for i,p_cod in enumerate(y.columns[1:]):\n",
        "  y_pred_test[p_cod] = regressao_logistica[i+1].predict(test)"
      ],
      "execution_count": null,
      "outputs": []
    },
    {
      "cell_type": "code",
      "metadata": {
        "colab": {
          "base_uri": "https://localhost:8080/",
          "height": 204
        },
        "id": "8P9PebzcPvrd",
        "outputId": "a27f5cb4-4e50-47c5-97c5-3fc20760e0b9"
      },
      "source": [
        "y_pred_test.head()"
      ],
      "execution_count": null,
      "outputs": [
        {
          "output_type": "execute_result",
          "data": {
            "text/html": [
              "<div>\n",
              "<style scoped>\n",
              "    .dataframe tbody tr th:only-of-type {\n",
              "        vertical-align: middle;\n",
              "    }\n",
              "\n",
              "    .dataframe tbody tr th {\n",
              "        vertical-align: top;\n",
              "    }\n",
              "\n",
              "    .dataframe thead th {\n",
              "        text-align: right;\n",
              "    }\n",
              "</style>\n",
              "<table border=\"1\" class=\"dataframe\">\n",
              "  <thead>\n",
              "    <tr style=\"text-align: right;\">\n",
              "      <th></th>\n",
              "      <th>P00</th>\n",
              "      <th>P1</th>\n",
              "      <th>P10</th>\n",
              "      <th>P11</th>\n",
              "      <th>P12</th>\n",
              "      <th>P13</th>\n",
              "      <th>P14</th>\n",
              "      <th>P15</th>\n",
              "      <th>P16</th>\n",
              "      <th>P17</th>\n",
              "      <th>P18</th>\n",
              "      <th>P2</th>\n",
              "      <th>P20</th>\n",
              "      <th>P3</th>\n",
              "      <th>P4</th>\n",
              "      <th>P5</th>\n",
              "      <th>P6</th>\n",
              "      <th>P7</th>\n",
              "      <th>P8</th>\n",
              "      <th>P9</th>\n",
              "    </tr>\n",
              "  </thead>\n",
              "  <tbody>\n",
              "    <tr>\n",
              "      <th>0</th>\n",
              "      <td>0</td>\n",
              "      <td>0</td>\n",
              "      <td>0</td>\n",
              "      <td>0</td>\n",
              "      <td>0</td>\n",
              "      <td>0</td>\n",
              "      <td>0</td>\n",
              "      <td>0</td>\n",
              "      <td>0</td>\n",
              "      <td>0</td>\n",
              "      <td>0</td>\n",
              "      <td>0</td>\n",
              "      <td>0</td>\n",
              "      <td>0</td>\n",
              "      <td>0</td>\n",
              "      <td>0</td>\n",
              "      <td>0</td>\n",
              "      <td>0</td>\n",
              "      <td>1</td>\n",
              "      <td>0</td>\n",
              "    </tr>\n",
              "    <tr>\n",
              "      <th>1</th>\n",
              "      <td>0</td>\n",
              "      <td>0</td>\n",
              "      <td>0</td>\n",
              "      <td>0</td>\n",
              "      <td>0</td>\n",
              "      <td>0</td>\n",
              "      <td>0</td>\n",
              "      <td>0</td>\n",
              "      <td>0</td>\n",
              "      <td>0</td>\n",
              "      <td>0</td>\n",
              "      <td>0</td>\n",
              "      <td>0</td>\n",
              "      <td>0</td>\n",
              "      <td>0</td>\n",
              "      <td>0</td>\n",
              "      <td>0</td>\n",
              "      <td>0</td>\n",
              "      <td>0</td>\n",
              "      <td>0</td>\n",
              "    </tr>\n",
              "    <tr>\n",
              "      <th>2</th>\n",
              "      <td>0</td>\n",
              "      <td>0</td>\n",
              "      <td>0</td>\n",
              "      <td>0</td>\n",
              "      <td>0</td>\n",
              "      <td>0</td>\n",
              "      <td>0</td>\n",
              "      <td>0</td>\n",
              "      <td>1</td>\n",
              "      <td>0</td>\n",
              "      <td>0</td>\n",
              "      <td>0</td>\n",
              "      <td>0</td>\n",
              "      <td>0</td>\n",
              "      <td>0</td>\n",
              "      <td>0</td>\n",
              "      <td>0</td>\n",
              "      <td>0</td>\n",
              "      <td>0</td>\n",
              "      <td>0</td>\n",
              "    </tr>\n",
              "    <tr>\n",
              "      <th>3</th>\n",
              "      <td>0</td>\n",
              "      <td>0</td>\n",
              "      <td>0</td>\n",
              "      <td>0</td>\n",
              "      <td>1</td>\n",
              "      <td>0</td>\n",
              "      <td>0</td>\n",
              "      <td>0</td>\n",
              "      <td>0</td>\n",
              "      <td>0</td>\n",
              "      <td>0</td>\n",
              "      <td>0</td>\n",
              "      <td>0</td>\n",
              "      <td>0</td>\n",
              "      <td>0</td>\n",
              "      <td>0</td>\n",
              "      <td>0</td>\n",
              "      <td>0</td>\n",
              "      <td>0</td>\n",
              "      <td>0</td>\n",
              "    </tr>\n",
              "    <tr>\n",
              "      <th>4</th>\n",
              "      <td>1</td>\n",
              "      <td>0</td>\n",
              "      <td>0</td>\n",
              "      <td>0</td>\n",
              "      <td>0</td>\n",
              "      <td>0</td>\n",
              "      <td>0</td>\n",
              "      <td>0</td>\n",
              "      <td>0</td>\n",
              "      <td>0</td>\n",
              "      <td>0</td>\n",
              "      <td>0</td>\n",
              "      <td>0</td>\n",
              "      <td>0</td>\n",
              "      <td>0</td>\n",
              "      <td>0</td>\n",
              "      <td>0</td>\n",
              "      <td>0</td>\n",
              "      <td>0</td>\n",
              "      <td>0</td>\n",
              "    </tr>\n",
              "  </tbody>\n",
              "</table>\n",
              "</div>"
            ],
            "text/plain": [
              "   P00  P1  P10  P11  P12  P13  P14  P15  ...  P20  P3  P4  P5  P6  P7  P8  P9\n",
              "0    0   0    0    0    0    0    0    0  ...    0   0   0   0   0   0   1   0\n",
              "1    0   0    0    0    0    0    0    0  ...    0   0   0   0   0   0   0   0\n",
              "2    0   0    0    0    0    0    0    0  ...    0   0   0   0   0   0   0   0\n",
              "3    0   0    0    0    1    0    0    0  ...    0   0   0   0   0   0   0   0\n",
              "4    1   0    0    0    0    0    0    0  ...    0   0   0   0   0   0   0   0\n",
              "\n",
              "[5 rows x 20 columns]"
            ]
          },
          "metadata": {},
          "execution_count": 276
        }
      ]
    },
    {
      "cell_type": "markdown",
      "metadata": {
        "id": "Q6OzH_H5Uz7R"
      },
      "source": [
        "* Convertendo os valores 0 e 1 para os valores entregáveis "
      ]
    },
    {
      "cell_type": "code",
      "metadata": {
        "colab": {
          "base_uri": "https://localhost:8080/"
        },
        "id": "oH0Sus4bQBc7",
        "outputId": "dd19d948-3dbb-48dc-bda7-a1cc0433d339"
      },
      "source": [
        "for p_cod in y_pred_test.columns:\n",
        "  y_pred_test[[p_cod]] = y_pred_test[[p_cod]].replace({1:str(p_cod),0:''})\n",
        "\n",
        "y_pred_test['y_pred'] = y_pred_test.apply(lambda x: str(' '.join(x).split()), axis=1)\n",
        "y_pred_test['y_pred']"
      ],
      "execution_count": null,
      "outputs": [
        {
          "output_type": "execute_result",
          "data": {
            "text/plain": [
              "0                    ['P8']\n",
              "1                        []\n",
              "2                   ['P16']\n",
              "3                   ['P12']\n",
              "4                   ['P00']\n",
              "                ...        \n",
              "20322                    []\n",
              "20323                    []\n",
              "20324                    []\n",
              "20325    ['P1', 'P6', 'P7']\n",
              "20326                ['P8']\n",
              "Name: y_pred, Length: 20327, dtype: object"
            ]
          },
          "metadata": {},
          "execution_count": 277
        }
      ]
    },
    {
      "cell_type": "markdown",
      "metadata": {
        "id": "HFnMUATtV2N1"
      },
      "source": [
        "* Importando o arquivo de verificação de soluções"
      ]
    },
    {
      "cell_type": "code",
      "metadata": {
        "id": "RwcF21IYV4wU"
      },
      "source": [
        "submission = pd.read_csv('/content/sample_submission_kF044ur.csv')"
      ],
      "execution_count": null,
      "outputs": []
    },
    {
      "cell_type": "code",
      "metadata": {
        "colab": {
          "base_uri": "https://localhost:8080/",
          "height": 204
        },
        "id": "1KDgTrqJUIJZ",
        "outputId": "99b6185c-fbb0-4e32-9300-ebdf6e5d9589"
      },
      "source": [
        "submission['Customer_ID'] = test_Customer_ID\n",
        "submission['Product_Holding_B2'] = y_pred_test['y_pred'] \n",
        "submission.head()"
      ],
      "execution_count": null,
      "outputs": [
        {
          "output_type": "execute_result",
          "data": {
            "text/html": [
              "<div>\n",
              "<style scoped>\n",
              "    .dataframe tbody tr th:only-of-type {\n",
              "        vertical-align: middle;\n",
              "    }\n",
              "\n",
              "    .dataframe tbody tr th {\n",
              "        vertical-align: top;\n",
              "    }\n",
              "\n",
              "    .dataframe thead th {\n",
              "        text-align: right;\n",
              "    }\n",
              "</style>\n",
              "<table border=\"1\" class=\"dataframe\">\n",
              "  <thead>\n",
              "    <tr style=\"text-align: right;\">\n",
              "      <th></th>\n",
              "      <th>Customer_ID</th>\n",
              "      <th>Product_Holding_B2</th>\n",
              "    </tr>\n",
              "  </thead>\n",
              "  <tbody>\n",
              "    <tr>\n",
              "      <th>0</th>\n",
              "      <td>CC372708</td>\n",
              "      <td>['P8']</td>\n",
              "    </tr>\n",
              "    <tr>\n",
              "      <th>1</th>\n",
              "      <td>CC216072</td>\n",
              "      <td>[]</td>\n",
              "    </tr>\n",
              "    <tr>\n",
              "      <th>2</th>\n",
              "      <td>CC387629</td>\n",
              "      <td>['P16']</td>\n",
              "    </tr>\n",
              "    <tr>\n",
              "      <th>3</th>\n",
              "      <td>CC389228</td>\n",
              "      <td>['P12']</td>\n",
              "    </tr>\n",
              "    <tr>\n",
              "      <th>4</th>\n",
              "      <td>CC394445</td>\n",
              "      <td>['P00']</td>\n",
              "    </tr>\n",
              "  </tbody>\n",
              "</table>\n",
              "</div>"
            ],
            "text/plain": [
              "  Customer_ID Product_Holding_B2\n",
              "0    CC372708             ['P8']\n",
              "1    CC216072                 []\n",
              "2    CC387629            ['P16']\n",
              "3    CC389228            ['P12']\n",
              "4    CC394445            ['P00']"
            ]
          },
          "metadata": {},
          "execution_count": 288
        }
      ]
    },
    {
      "cell_type": "markdown",
      "metadata": {
        "id": "Y-tW5_DeUd4O"
      },
      "source": [
        "* Salvando no formato .csv para envio"
      ]
    },
    {
      "cell_type": "code",
      "metadata": {
        "id": "wBiBTHkXUght"
      },
      "source": [
        "submission.to_csv(\"submission.csv\", index = False)"
      ],
      "execution_count": null,
      "outputs": []
    },
    {
      "cell_type": "code",
      "metadata": {
        "colab": {
          "base_uri": "https://localhost:8080/",
          "height": 359
        },
        "id": "KwzVIvOMZGJL",
        "outputId": "a5934fd6-53dd-40ed-b31a-6ce0fdb0bd4c"
      },
      "source": [
        "pd.read_csv('submission.csv').head(10)"
      ],
      "execution_count": null,
      "outputs": [
        {
          "output_type": "execute_result",
          "data": {
            "text/html": [
              "<div>\n",
              "<style scoped>\n",
              "    .dataframe tbody tr th:only-of-type {\n",
              "        vertical-align: middle;\n",
              "    }\n",
              "\n",
              "    .dataframe tbody tr th {\n",
              "        vertical-align: top;\n",
              "    }\n",
              "\n",
              "    .dataframe thead th {\n",
              "        text-align: right;\n",
              "    }\n",
              "</style>\n",
              "<table border=\"1\" class=\"dataframe\">\n",
              "  <thead>\n",
              "    <tr style=\"text-align: right;\">\n",
              "      <th></th>\n",
              "      <th>Customer_ID</th>\n",
              "      <th>Product_Holding_B2</th>\n",
              "    </tr>\n",
              "  </thead>\n",
              "  <tbody>\n",
              "    <tr>\n",
              "      <th>0</th>\n",
              "      <td>CC372708</td>\n",
              "      <td>['P8']</td>\n",
              "    </tr>\n",
              "    <tr>\n",
              "      <th>1</th>\n",
              "      <td>CC216072</td>\n",
              "      <td>[]</td>\n",
              "    </tr>\n",
              "    <tr>\n",
              "      <th>2</th>\n",
              "      <td>CC387629</td>\n",
              "      <td>['P16']</td>\n",
              "    </tr>\n",
              "    <tr>\n",
              "      <th>3</th>\n",
              "      <td>CC389228</td>\n",
              "      <td>['P12']</td>\n",
              "    </tr>\n",
              "    <tr>\n",
              "      <th>4</th>\n",
              "      <td>CC394445</td>\n",
              "      <td>['P00']</td>\n",
              "    </tr>\n",
              "    <tr>\n",
              "      <th>5</th>\n",
              "      <td>CC241088</td>\n",
              "      <td>[]</td>\n",
              "    </tr>\n",
              "    <tr>\n",
              "      <th>6</th>\n",
              "      <td>CC381551</td>\n",
              "      <td>['P16']</td>\n",
              "    </tr>\n",
              "    <tr>\n",
              "      <th>7</th>\n",
              "      <td>CC238627</td>\n",
              "      <td>['P12', 'P8']</td>\n",
              "    </tr>\n",
              "    <tr>\n",
              "      <th>8</th>\n",
              "      <td>CC287515</td>\n",
              "      <td>[]</td>\n",
              "    </tr>\n",
              "    <tr>\n",
              "      <th>9</th>\n",
              "      <td>CC312519</td>\n",
              "      <td>['P4', 'P8']</td>\n",
              "    </tr>\n",
              "  </tbody>\n",
              "</table>\n",
              "</div>"
            ],
            "text/plain": [
              "  Customer_ID Product_Holding_B2\n",
              "0    CC372708             ['P8']\n",
              "1    CC216072                 []\n",
              "2    CC387629            ['P16']\n",
              "3    CC389228            ['P12']\n",
              "4    CC394445            ['P00']\n",
              "5    CC241088                 []\n",
              "6    CC381551            ['P16']\n",
              "7    CC238627      ['P12', 'P8']\n",
              "8    CC287515                 []\n",
              "9    CC312519       ['P4', 'P8']"
            ]
          },
          "metadata": {},
          "execution_count": 291
        }
      ]
    }
  ]
}